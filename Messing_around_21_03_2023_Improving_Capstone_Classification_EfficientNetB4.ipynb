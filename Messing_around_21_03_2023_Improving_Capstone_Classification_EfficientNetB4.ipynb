{
  "cells": [
    {
      "cell_type": "markdown",
      "metadata": {
        "id": "view-in-github",
        "colab_type": "text"
      },
      "source": [
        "<a href=\"https://colab.research.google.com/github/Chinmaya-3141/Capstone-Project/blob/main/Messing_around_21_03_2023_Improving_Capstone_Classification_EfficientNetB4.ipynb\" target=\"_parent\"><img src=\"https://colab.research.google.com/assets/colab-badge.svg\" alt=\"Open In Colab\"/></a>"
      ]
    },
    {
      "cell_type": "markdown",
      "metadata": {
        "id": "BWeXcctAC5Sl"
      },
      "source": [
        "# **EfficientNet-B4**"
      ]
    },
    {
      "cell_type": "markdown",
      "metadata": {
        "id": "k4rTr6szCy9s"
      },
      "source": [
        "## Install and import necessary libraries"
      ]
    },
    {
      "cell_type": "code",
      "execution_count": null,
      "metadata": {
        "colab": {
          "base_uri": "https://localhost:8080/"
        },
        "id": "A2ebdJ-I796R",
        "outputId": "c65d606f-41c9-46fe-8a3b-603c7702413e"
      },
      "outputs": [
        {
          "output_type": "stream",
          "name": "stdout",
          "text": [
            "Python 3.9.16\n",
            "Name: torch\n",
            "Version: 1.13.1+cu116\n",
            "Summary: Tensors and Dynamic neural networks in Python with strong GPU acceleration\n",
            "Home-page: https://pytorch.org/\n",
            "Author: PyTorch Team\n",
            "Author-email: packages@pytorch.org\n",
            "License: BSD-3\n",
            "Location: /usr/local/lib/python3.9/dist-packages\n",
            "Requires: typing-extensions\n",
            "Required-by: efficientnet-pytorch, fastai, torchaudio, torchtext, torchvision\n"
          ]
        }
      ],
      "source": [
        "!python --version\n",
        "!pip show torch"
      ]
    },
    {
      "cell_type": "markdown",
      "metadata": {
        "id": "VH3xCD3JCl44"
      },
      "source": [
        "\n",
        "Python 3.9.16\\\n",
        "Name: torch\\\n",
        "Version: 1.13.1+cu116\\\n",
        "Summary: Tensors and Dynamic neural networks in Python with strong GPU acceleration\\\n",
        "Home-page: https://pytorch.org/ \\\n",
        "Author: PyTorch Team\\\n",
        "Author-email: packages@pytorch.org\\\n",
        "License: BSD-3\\\n",
        "Location: /usr/local/lib/python3.9/dist-packages\\\n",
        "Requires: typing-extensions\\\n",
        "Required-by: fastai, torchaudio, torchtext, torchvision\n"
      ]
    },
    {
      "cell_type": "code",
      "execution_count": null,
      "metadata": {
        "id": "xF8GkYFL6aqF"
      },
      "outputs": [],
      "source": [
        "!pip install torchinfo -qq\n",
        "!pip install efficientnet_pytorch -qq"
      ]
    },
    {
      "cell_type": "code",
      "execution_count": null,
      "metadata": {
        "colab": {
          "base_uri": "https://localhost:8080/"
        },
        "id": "F2ZoL_Ug53pN",
        "outputId": "b7b6e2e0-a913-44c4-c094-1eb2c5fe86bd"
      },
      "outputs": [
        {
          "output_type": "stream",
          "name": "stdout",
          "text": [
            "Mounted at /content/drive\n"
          ]
        }
      ],
      "source": [
        "# Mount Google Drive\n",
        "from google.colab import drive\n",
        "drive.mount('/content/drive')"
      ]
    },
    {
      "cell_type": "code",
      "execution_count": null,
      "metadata": {
        "id": "jJ0vp-oA6Ep3"
      },
      "outputs": [],
      "source": [
        "import os\n",
        "import time\n",
        "from numba import cuda\n",
        "import PIL\n",
        "from time import time"
      ]
    },
    {
      "cell_type": "code",
      "execution_count": null,
      "metadata": {
        "id": "MA5XhpDK6Lwa"
      },
      "outputs": [],
      "source": [
        "import numpy as np\n",
        "import pandas as pd"
      ]
    },
    {
      "cell_type": "code",
      "execution_count": null,
      "metadata": {
        "id": "0Et4zkk26Ent"
      },
      "outputs": [],
      "source": [
        "import torch\n",
        "import torch.nn as nn\n",
        "import torch.optim as optim\n",
        "from torchvision.datasets import ImageFolder\n",
        "from torchvision import datasets, transforms\n",
        "from torch.utils.data import DataLoader, ConcatDataset\n",
        "from torchsummary import summary as tssum\n",
        "from torchinfo import summary as tisum"
      ]
    },
    {
      "cell_type": "code",
      "execution_count": null,
      "metadata": {
        "id": "hiwXlcay7G6o"
      },
      "outputs": [],
      "source": [
        "# from torchvision.models import efficientnet_b7 as en7\n",
        "from efficientnet_pytorch import EfficientNet as en4"
      ]
    },
    {
      "cell_type": "markdown",
      "metadata": {
        "id": "GpxND-LBC_Tf"
      },
      "source": [
        "## Data Preparation"
      ]
    },
    {
      "cell_type": "markdown",
      "metadata": {
        "id": "R6dYzfjF0CK1"
      },
      "source": [
        "### Import, transforms, augmentation"
      ]
    },
    {
      "cell_type": "code",
      "execution_count": null,
      "metadata": {
        "id": "iWIEeFDbMxY7"
      },
      "outputs": [],
      "source": [
        "# Define the root directory of your dataset\n",
        "path = '/content/drive/MyDrive/Capstone Data (Shared)/Capstone Data/ResizedData/Resized Data_320x320'"
      ]
    },
    {
      "cell_type": "code",
      "execution_count": null,
      "metadata": {
        "id": "C1VrXky-zsfb",
        "colab": {
          "base_uri": "https://localhost:8080/"
        },
        "outputId": "9bfc7d62-90ba-4c19-abc6-84cda4a70000"
      },
      "outputs": [
        {
          "output_type": "stream",
          "name": "stdout",
          "text": [
            "Using device: cuda:0\n"
          ]
        }
      ],
      "source": [
        "# Check if GPU is available\n",
        "\n",
        "device = torch.device(\"cuda:0\" if torch.cuda.is_available() else \"cpu\")\n",
        "print(\"Using device:\", device)"
      ]
    },
    {
      "cell_type": "code",
      "execution_count": null,
      "metadata": {
        "id": "totCPFA5Cqdx",
        "colab": {
          "base_uri": "https://localhost:8080/"
        },
        "outputId": "64ec302e-bdee-44a1-d87e-71695f2c5830"
      },
      "outputs": [
        {
          "output_type": "execute_result",
          "data": {
            "text/plain": [
              "<torch._C.Generator at 0x7f0dd44cecf0>"
            ]
          },
          "metadata": {},
          "execution_count": 13
        }
      ],
      "source": [
        "torch.manual_seed(42)"
      ]
    },
    {
      "cell_type": "code",
      "execution_count": null,
      "metadata": {
        "id": "_kaoXjY4Skty"
      },
      "outputs": [],
      "source": [
        "batchsize = 20\n",
        "dimension=380\n",
        "channels = 3"
      ]
    },
    {
      "cell_type": "code",
      "execution_count": null,
      "metadata": {
        "id": "AL0n71ZtB3Kc"
      },
      "outputs": [],
      "source": [
        "# Transform to apply to complete dataset\n",
        "\n",
        "transform = transforms.Compose([\n",
        "    transforms.Resize(380),\n",
        "    transforms.CenterCrop(380),\n",
        "    transforms.ToTensor(),\n",
        "    transforms.Normalize(mean=[0.5121, 0.5121, 0.5121], std=[0.2298, 0.2298, 0.2298])\n",
        "])\n",
        "\n",
        "# Define transform to augment Pneumonia data and then combine it with the rest of the data\n",
        "\n",
        "augmented_transforms = transforms.Compose([\n",
        "    transforms.Resize(380),\n",
        "    transforms.RandomRotation(degrees=20),\n",
        "    transforms.CenterCrop(380),\n",
        "    # transforms.RandomHorizontalFlip(),\n",
        "    transforms.ToTensor(),\n",
        "    transforms.Normalize(mean=[0.5121, 0.5121, 0.5121], std=[0.2298, 0.2298, 0.2298])\n",
        "])"
      ]
    },
    {
      "cell_type": "markdown",
      "metadata": {
        "id": "CHswD2cYBTuH"
      },
      "source": [
        "### Combining"
      ]
    },
    {
      "cell_type": "code",
      "execution_count": null,
      "metadata": {
        "id": "qtZAPCeHpqEz"
      },
      "outputs": [],
      "source": [
        "drop_classes = ['Covid', 'Normal']\n",
        "list1 = [(path,transform,[]),(path,augmented_transforms,drop_classes)]"
      ]
    },
    {
      "cell_type": "code",
      "execution_count": null,
      "metadata": {
        "id": "lxIC29Z9ngbU"
      },
      "outputs": [],
      "source": [
        "class ConcatImageFolder(ConcatDataset):\n",
        "    \n",
        "    def __init__(self, folder_transforms):\n",
        "        # create a list of ImageFolder datasets from the input folder/transform pairs\n",
        "        datasets = []\n",
        "        classdict = []\n",
        "        for folder, transform, drop_classes in folder_transforms:\n",
        "            data = ImageFolder(folder, transform=transforms.Compose([transform]))\n",
        "            data.samples = [(x, y) for x, y in data.samples if data.classes[y] not in drop_classes]\n",
        "            data.classes = [c for c in data.classes if c not in drop_classes]\n",
        "            datasets.append(data)\n",
        "            classdict.append(data.class_to_idx)\n",
        "\n",
        "        \n",
        "        def combine_dicts(dicts):\n",
        "          combined_dict = {}\n",
        "          for dictionary in dicts:\n",
        "              for key, value in dictionary.items():\n",
        "                   if key in combined_dict:\n",
        "                       if value not in combined_dict[key]:\n",
        "                        combined_dict[key].append(value)\n",
        "                   else:\n",
        "                       combined_dict[key] = [value]\n",
        "          return combined_dict\n",
        "\n",
        "        \n",
        "        # call the parent ConcatDataset constructor with the list of datasets\n",
        "        super().__init__(datasets)\n",
        "\n",
        "        # store the union of all classes from the constituent datasets\n",
        "        self.classes = list(set().union(*[dataset.classes for dataset in datasets]))\n",
        "\n",
        "        self.class_to_idx = combine_dicts(classdict)"
      ]
    },
    {
      "cell_type": "code",
      "execution_count": null,
      "metadata": {
        "id": "Tc2sAgTxoAmm"
      },
      "outputs": [],
      "source": [
        "datavar = ConcatImageFolder(list1)"
      ]
    },
    {
      "cell_type": "code",
      "execution_count": null,
      "metadata": {
        "id": "ySQ-bMAMqJ-s",
        "colab": {
          "base_uri": "https://localhost:8080/"
        },
        "outputId": "525ce187-1cff-4c7a-8222-45b9b9373377"
      },
      "outputs": [
        {
          "output_type": "execute_result",
          "data": {
            "text/plain": [
              "['Covid', 'Pneumonia', 'Normal']"
            ]
          },
          "metadata": {},
          "execution_count": 19
        }
      ],
      "source": [
        "datavar.classes"
      ]
    },
    {
      "cell_type": "code",
      "source": [
        "datavar.class_to_idx"
      ],
      "metadata": {
        "id": "i63PI8xBjqcD",
        "colab": {
          "base_uri": "https://localhost:8080/"
        },
        "outputId": "70f7b3bd-eeca-43bc-86c4-09ca3f8d9cef"
      },
      "execution_count": null,
      "outputs": [
        {
          "output_type": "execute_result",
          "data": {
            "text/plain": [
              "{'Covid': [0], 'Normal': [1], 'Pneumonia': [2]}"
            ]
          },
          "metadata": {},
          "execution_count": 20
        }
      ]
    },
    {
      "cell_type": "code",
      "execution_count": null,
      "metadata": {
        "id": "82eg4isXqZ2-",
        "colab": {
          "base_uri": "https://localhost:8080/"
        },
        "outputId": "5e51396c-7560-47b9-dc44-754adfcc1381"
      },
      "outputs": [
        {
          "output_type": "stream",
          "name": "stdout",
          "text": [
            "Number of images: 9307\n"
          ]
        }
      ],
      "source": [
        "print(f\"Number of images: {len(datavar)}\")"
      ]
    },
    {
      "cell_type": "markdown",
      "metadata": {
        "id": "HUQO3TxrCUZQ"
      },
      "source": [
        "### Train-Test-Split"
      ]
    },
    {
      "cell_type": "code",
      "execution_count": null,
      "metadata": {
        "id": "gq0AJKBxN0zS"
      },
      "outputs": [],
      "source": [
        "train_data, test_data = torch.utils.data.random_split(datavar, [int(0.8*len(datavar)), len(datavar)-int(0.8*len(datavar))])"
      ]
    },
    {
      "cell_type": "code",
      "execution_count": null,
      "metadata": {
        "id": "LaMYDnlgBYys"
      },
      "outputs": [],
      "source": [
        "# Define the data loaders\n",
        "\n",
        "train_loader = DataLoader(train_data, batch_size=batchsize, shuffle=True)\n",
        "test_loader = DataLoader(test_data, batch_size=batchsize, shuffle=False)"
      ]
    },
    {
      "cell_type": "code",
      "execution_count": null,
      "metadata": {
        "id": "4zct4qkrJEQB"
      },
      "outputs": [],
      "source": [
        "# Calculate the mean and standard deviation of the training data\n",
        "\n",
        "# mean = 0.0\n",
        "# std = 0.0\n",
        "# num_samples = 0\n",
        "\n",
        "# for images, _ in train_loader:\n",
        "#     batch_samples = images.size(0)\n",
        "#     images = images.view(batch_samples, images.size(1), -1).to(device)\n",
        "#     mean += images.mean(2).sum(0).to(device)\n",
        "#     std += images.std(2).sum(0).to(device)\n",
        "#     num_samples += batch_samples\n",
        "\n",
        "# mean /= num_samples\n",
        "# std /= num_samples\n",
        "\n",
        "# print(\"Mean:\", mean)\n",
        "# print(\"Standard deviation:\", std)"
      ]
    },
    {
      "cell_type": "markdown",
      "metadata": {
        "id": "QRnQitcODO5B"
      },
      "source": [
        "## Modelling"
      ]
    },
    {
      "cell_type": "markdown",
      "source": [
        "### Setup"
      ],
      "metadata": {
        "id": "Io8XBj-wwaq7"
      }
    },
    {
      "cell_type": "code",
      "execution_count": null,
      "metadata": {
        "id": "deZaBsqiLfdL"
      },
      "outputs": [],
      "source": [
        "learning_rate=1e-4"
      ]
    },
    {
      "cell_type": "code",
      "execution_count": null,
      "metadata": {
        "id": "nGnCpmab6EaN"
      },
      "outputs": [],
      "source": [
        "criterion = nn.CrossEntropyLoss()\n",
        "lr_decay=0.1\n",
        "# lr_decay=0.99"
      ]
    },
    {
      "cell_type": "code",
      "execution_count": null,
      "metadata": {
        "id": "zFD8Yci36EXB"
      },
      "outputs": [],
      "source": [
        "history_accuracy=[]\n",
        "history_loss=[]\n",
        "epochs = 11"
      ]
    },
    {
      "cell_type": "code",
      "execution_count": null,
      "metadata": {
        "id": "c_jig7wnMSXV"
      },
      "outputs": [],
      "source": [
        "#Create a class list\n",
        "\n",
        "# Creates standard basis\n",
        "eye = torch.eye(3).to(device)\n",
        "\n",
        "# Classes\n",
        "classes=[0,1,2]"
      ]
    },
    {
      "cell_type": "code",
      "execution_count": null,
      "metadata": {
        "colab": {
          "base_uri": "https://localhost:8080/"
        },
        "id": "HZHhYFcUwTle",
        "outputId": "8d234c44-4624-422a-915e-9969f6bb694d"
      },
      "outputs": [
        {
          "output_type": "execute_result",
          "data": {
            "text/plain": [
              "list"
            ]
          },
          "metadata": {},
          "execution_count": 29
        }
      ],
      "source": [
        "type(classes)"
      ]
    },
    {
      "cell_type": "markdown",
      "source": [
        "### Create model, send to GPU"
      ],
      "metadata": {
        "id": "bEKBtNXaFr0M"
      }
    },
    {
      "cell_type": "code",
      "execution_count": null,
      "metadata": {
        "colab": {
          "base_uri": "https://localhost:8080/",
          "height": 104,
          "referenced_widgets": [
            "26a73f180da54fdc891f967ba5c20c20",
            "6c18128f8bf7455890524f859078152e",
            "b9dfce93045b4ece810604c752fc1600",
            "aae87fffbfd240cda87c68339844bf0d",
            "77080577533449b0a82f0707eec0ffdd",
            "17debee38d9a4537a1ce26913817dc36",
            "e901be3fea4b4a05aa7a7ff186ccc6af",
            "9e9ff3ccec4745c689db9604a2c77764",
            "712bfeb4fdaf431eb92806c9049e5684",
            "3989f85a6a504af0aadf1c341aeaf418",
            "55466d03efda48cda3dd389f51f8fe32"
          ]
        },
        "id": "Z92J0S7j6_-U",
        "outputId": "f72465da-855e-45a8-ef2e-1b55cd1db1ba"
      },
      "outputs": [
        {
          "output_type": "stream",
          "name": "stderr",
          "text": [
            "Downloading: \"https://github.com/lukemelas/EfficientNet-PyTorch/releases/download/1.0/efficientnet-b4-6ed6700e.pth\" to /root/.cache/torch/hub/checkpoints/efficientnet-b4-6ed6700e.pth\n"
          ]
        },
        {
          "output_type": "display_data",
          "data": {
            "text/plain": [
              "  0%|          | 0.00/74.4M [00:00<?, ?B/s]"
            ],
            "application/vnd.jupyter.widget-view+json": {
              "version_major": 2,
              "version_minor": 0,
              "model_id": "26a73f180da54fdc891f967ba5c20c20"
            }
          },
          "metadata": {}
        },
        {
          "output_type": "stream",
          "name": "stdout",
          "text": [
            "Loaded pretrained weights for efficientnet-b4\n"
          ]
        }
      ],
      "source": [
        "# EfficientNetB7 requires 380*380 images\n",
        "\n",
        "# model = en4.from_pretrained('efficientnet-b4', num_classes=3)"
      ]
    },
    {
      "cell_type": "code",
      "source": [
        "file = '/content/drive/MyDrive/Capstone Data (Shared)/Capstone Data/TrainedModelCheckpoints/EN4-Augment-epoch 6 model.pth'"
      ],
      "metadata": {
        "id": "z0aeGAAXj-jT"
      },
      "execution_count": null,
      "outputs": []
    },
    {
      "cell_type": "code",
      "source": [
        "checkpoint = torch.load(file, map_location = 'cuda:0')"
      ],
      "metadata": {
        "id": "Pl1m_9eDkLh3"
      },
      "execution_count": null,
      "outputs": []
    },
    {
      "cell_type": "code",
      "source": [
        "model = en4.from_pretrained('efficientnet-b4',num_classes = 3)"
      ],
      "metadata": {
        "colab": {
          "base_uri": "https://localhost:8080/"
        },
        "id": "A31zOSvYkOUW",
        "outputId": "8cb4923f-3951-4f90-f244-b2aa89daa818"
      },
      "execution_count": null,
      "outputs": [
        {
          "output_type": "stream",
          "name": "stdout",
          "text": [
            "Loaded pretrained weights for efficientnet-b4\n"
          ]
        }
      ]
    },
    {
      "cell_type": "code",
      "execution_count": null,
      "metadata": {
        "id": "I1Vv5Vjc6Eia"
      },
      "outputs": [],
      "source": [
        "# Load the model to device\n",
        "\n",
        "model.to(device)"
      ]
    },
    {
      "cell_type": "code",
      "source": [
        "optimizer = optim.AdamW(model.parameters(), lr=learning_rate, weight_decay = lr_decay)"
      ],
      "metadata": {
        "id": "WnzTepj7wQ-H"
      },
      "execution_count": null,
      "outputs": []
    },
    {
      "cell_type": "code",
      "source": [
        "print(model.load_state_dict(checkpoint['model_state_dict']))\n",
        "print(optimizer.load_state_dict(checkpoint['optimizer_state_dict']))\n",
        "epoch = checkpoint[\"epoch\"]\n",
        "# epoch.to(device)\n",
        "loss = checkpoint['loss']\n",
        "# loss.to(device)"
      ],
      "metadata": {
        "colab": {
          "base_uri": "https://localhost:8080/",
          "height": 271
        },
        "id": "rYt4v3lukS_P",
        "outputId": "ce864699-7938-4adc-c4ee-59370fbb4290"
      },
      "execution_count": null,
      "outputs": [
        {
          "output_type": "stream",
          "name": "stdout",
          "text": [
            "<All keys matched successfully>\n",
            "None\n"
          ]
        },
        {
          "output_type": "error",
          "ename": "AttributeError",
          "evalue": "ignored",
          "traceback": [
            "\u001b[0;31m---------------------------------------------------------------------------\u001b[0m",
            "\u001b[0;31mAttributeError\u001b[0m                            Traceback (most recent call last)",
            "\u001b[0;32m<ipython-input-35-7af23efa59bc>\u001b[0m in \u001b[0;36m<module>\u001b[0;34m\u001b[0m\n\u001b[1;32m      2\u001b[0m \u001b[0mprint\u001b[0m\u001b[0;34m(\u001b[0m\u001b[0moptimizer\u001b[0m\u001b[0;34m.\u001b[0m\u001b[0mload_state_dict\u001b[0m\u001b[0;34m(\u001b[0m\u001b[0mcheckpoint\u001b[0m\u001b[0;34m[\u001b[0m\u001b[0;34m'optimizer_state_dict'\u001b[0m\u001b[0;34m]\u001b[0m\u001b[0;34m)\u001b[0m\u001b[0;34m)\u001b[0m\u001b[0;34m\u001b[0m\u001b[0;34m\u001b[0m\u001b[0m\n\u001b[1;32m      3\u001b[0m \u001b[0mepoch\u001b[0m \u001b[0;34m=\u001b[0m \u001b[0mcheckpoint\u001b[0m\u001b[0;34m[\u001b[0m\u001b[0;34m\"epoch\"\u001b[0m\u001b[0;34m]\u001b[0m\u001b[0;34m\u001b[0m\u001b[0;34m\u001b[0m\u001b[0m\n\u001b[0;32m----> 4\u001b[0;31m \u001b[0mepoch\u001b[0m\u001b[0;34m.\u001b[0m\u001b[0mto\u001b[0m\u001b[0;34m(\u001b[0m\u001b[0mdevice\u001b[0m\u001b[0;34m)\u001b[0m\u001b[0;34m\u001b[0m\u001b[0;34m\u001b[0m\u001b[0m\n\u001b[0m\u001b[1;32m      5\u001b[0m \u001b[0mloss\u001b[0m \u001b[0;34m=\u001b[0m \u001b[0mcheckpoint\u001b[0m\u001b[0;34m[\u001b[0m\u001b[0;34m'loss'\u001b[0m\u001b[0;34m]\u001b[0m\u001b[0;34m\u001b[0m\u001b[0;34m\u001b[0m\u001b[0m\n\u001b[1;32m      6\u001b[0m \u001b[0mloss\u001b[0m\u001b[0;34m.\u001b[0m\u001b[0mto\u001b[0m\u001b[0;34m(\u001b[0m\u001b[0mdevice\u001b[0m\u001b[0;34m)\u001b[0m\u001b[0;34m\u001b[0m\u001b[0;34m\u001b[0m\u001b[0m\n",
            "\u001b[0;31mAttributeError\u001b[0m: 'int' object has no attribute 'to'"
          ]
        }
      ]
    },
    {
      "cell_type": "code",
      "execution_count": null,
      "metadata": {
        "id": "E-k_-YPF6Ec0"
      },
      "outputs": [],
      "source": [
        "print(tisum(\\\n",
        "            model,\\\n",
        "            input_size = (batchsize,channels,dimension,dimension)\\\n",
        "            )\\\n",
        "      )"
      ]
    },
    {
      "cell_type": "markdown",
      "source": [
        "### Training"
      ],
      "metadata": {
        "id": "2Ge8cVhNwWGi"
      }
    },
    {
      "cell_type": "code",
      "execution_count": null,
      "metadata": {
        "id": "df7RJ3u76EUO"
      },
      "outputs": [],
      "source": [
        "# Train the model\n",
        "\n",
        "for epoch in range(epochs):  \n",
        "    running_loss = 0.0\n",
        "    correct=0\n",
        "    total=0\n",
        "    class_correct = list(0. for gvar in classes)\n",
        "    class_total = list(0. for gvar in classes)\n",
        "    for i, data in enumerate(train_loader, 0):\n",
        "        inputs, labels = data\n",
        "        t0 = time()\n",
        "        inputs, labels = inputs.to(device), labels.to(device)\n",
        "        labels = eye[labels]\n",
        "        optimizer.zero_grad()\n",
        "        #torch.cuda.empty_cache()\n",
        "        outputs = model(inputs)\n",
        "        loss = criterion(outputs, torch.argmax(labels, 1))\n",
        "        predicted = torch.argmax(outputs, 1)\n",
        "        labels = torch.argmax(labels, 1)\n",
        "        c = (predicted == labels.data).squeeze()\n",
        "        correct += (predicted == labels).sum().item()\n",
        "        total += labels.size(0)\n",
        "        accuracy = float(correct) / float(total)\n",
        "        \n",
        "        history_accuracy.append(accuracy)\n",
        "        history_loss.append(loss)\n",
        "        \n",
        "        loss.backward()\n",
        "        optimizer.step()\n",
        "        \n",
        "        for j in range(labels.size(0)):\n",
        "            label = labels[j]\n",
        "            class_correct[label] += c[j].item()\n",
        "            class_total[label] += 1\n",
        "        \n",
        "        running_loss += loss.item()\n",
        "        \n",
        "        print( \"Epoch : \",epoch+1,\" Batch : \", i+1,\" Loss :  \",running_loss/(i+1),\" Accuracy : \",accuracy,\"Time \",round(time()-t0, 2),\"s\" )\n",
        "    for k in range(len(classes)):\n",
        "        if(class_total[k]!=0):\n",
        "            print('Accuracy of %5s : %.3f %%' % (classes[k], 100 * class_correct[k] / class_total[k]))\n",
        "        \n",
        "    print('[%d epoch] Accuracy of the network on the Training images: %.3f %%' % (epoch+1, 100 * correct / total))\n",
        "    \n",
        "    if((epoch+1)>3):\n",
        "      file=f\"/content/drive/MyDrive/Capstone Data (Shared)/Capstone Data/TrainedModelCheckpoints/EN4-Augment-epoch {epoch+1} model.pth\"\n",
        "      torch.save({\n",
        "              'epoch': epoch,\n",
        "              'model_state_dict': model.state_dict(),\n",
        "              'optimizer_state_dict': optimizer.state_dict(),\n",
        "              'loss': loss\n",
        "              }, file)\n",
        "      "
      ]
    },
    {
      "cell_type": "markdown",
      "metadata": {
        "id": "4zHz8umjDcyR"
      },
      "source": [
        "## Visualisation of accuracy and loss"
      ]
    },
    {
      "cell_type": "code",
      "execution_count": null,
      "metadata": {
        "id": "OWre-m2htCtX"
      },
      "outputs": [],
      "source": [
        "import matplotlib.pyplot as plt"
      ]
    },
    {
      "cell_type": "code",
      "execution_count": null,
      "metadata": {
        "id": "cksuKNXXuCvL"
      },
      "outputs": [],
      "source": [
        "hist_loss = []\n",
        "for i in history_loss:\n",
        "  j=i.cpu().detach().numpy()\n",
        "  hist_loss.append(j)"
      ]
    },
    {
      "cell_type": "code",
      "execution_count": null,
      "metadata": {
        "id": "2ftBUd45uqZ1"
      },
      "outputs": [],
      "source": [
        "hist_loss"
      ]
    },
    {
      "cell_type": "code",
      "execution_count": null,
      "metadata": {
        "id": "nXQBAdWDvAi9"
      },
      "outputs": [],
      "source": [
        "plt.style.use(\"ggplot\")\n",
        "plt.figure(figsize=(16,8))\n",
        "plt.plot(history_accuracy)\n",
        "plt.plot(hist_loss)"
      ]
    },
    {
      "cell_type": "code",
      "execution_count": null,
      "metadata": {
        "id": "JOavE2vT71TM"
      },
      "outputs": [],
      "source": [
        "# plt.savefig(\"LossAndAccuracy\",dpi=2048, format = png)"
      ]
    },
    {
      "cell_type": "markdown",
      "metadata": {
        "id": "9f7LzOiLDndQ"
      },
      "source": [
        "## Model Evaluation"
      ]
    },
    {
      "cell_type": "code",
      "execution_count": null,
      "metadata": {
        "id": "VC6c552AtA5x"
      },
      "outputs": [],
      "source": [
        "model.eval()"
      ]
    },
    {
      "cell_type": "code",
      "execution_count": null,
      "metadata": {
        "id": "1ZTSacoKvVW_"
      },
      "outputs": [],
      "source": [
        "# Evaluate the model on test data\n",
        "\n",
        "correct = 0\n",
        "total = 0\n",
        "predictions=[]\n",
        "actuals=[]\n",
        "with torch.no_grad():\n",
        "    for data in test_loader:\n",
        "        images, labels = data\n",
        "        images,labels = images.to(device),labels.to(device)\n",
        "        outputs = model(images)\n",
        "        predicted = torch.argmax(outputs.data, 1)\n",
        "        total += labels.size(0)\n",
        "        correct += (predicted == labels).sum().item()\n",
        "        pred_arr = predicted.cpu().detach().numpy()\n",
        "        actual_arr = labels.cpu().detach().numpy()\n",
        "        predictions.append(pred_arr)\n",
        "        actuals.append(actual_arr)\n",
        "\n",
        "print('Accuracy of the network on the test images: %f %%'% (100 * correct / total))"
      ]
    },
    {
      "cell_type": "code",
      "execution_count": null,
      "metadata": {
        "id": "6b2tfQ7ssygo"
      },
      "outputs": [],
      "source": [
        "pred=np.concatenate(predictions)\n",
        "act=np.concatenate(actuals)"
      ]
    },
    {
      "cell_type": "code",
      "execution_count": null,
      "metadata": {
        "id": "azXaaWOBsyeA"
      },
      "outputs": [],
      "source": [
        "pred_arr = predicted.cpu().detach().numpy()\n",
        "actual_arr = labels.cpu().detach().numpy()"
      ]
    },
    {
      "cell_type": "code",
      "execution_count": null,
      "metadata": {
        "id": "5iE5Mxy7sybc"
      },
      "outputs": [],
      "source": [
        "pd.crosstab(pred,act,rownames=['Predicted'], colnames=['Actual'])"
      ]
    },
    {
      "cell_type": "code",
      "execution_count": null,
      "metadata": {
        "id": "zTMP4GsPsyY1"
      },
      "outputs": [],
      "source": [
        "datavar.classes"
      ]
    },
    {
      "cell_type": "code",
      "execution_count": null,
      "metadata": {
        "id": "2-mOtYeBsyWN"
      },
      "outputs": [],
      "source": [
        "datavar.class_to_idx"
      ]
    }
  ],
  "metadata": {
    "colab": {
      "collapsed_sections": [
        "k4rTr6szCy9s",
        "GpxND-LBC_Tf",
        "R6dYzfjF0CK1",
        "CHswD2cYBTuH",
        "HUQO3TxrCUZQ",
        "Io8XBj-wwaq7",
        "bEKBtNXaFr0M",
        "2Ge8cVhNwWGi",
        "4zHz8umjDcyR",
        "9f7LzOiLDndQ"
      ],
      "provenance": [],
      "authorship_tag": "ABX9TyOqxZgB/QApCZKrogSxLPpf",
      "include_colab_link": true
    },
    "gpuClass": "standard",
    "kernelspec": {
      "display_name": "Python 3",
      "name": "python3"
    },
    "language_info": {
      "name": "python"
    },
    "widgets": {
      "application/vnd.jupyter.widget-state+json": {
        "26a73f180da54fdc891f967ba5c20c20": {
          "model_module": "@jupyter-widgets/controls",
          "model_name": "HBoxModel",
          "model_module_version": "1.5.0",
          "state": {
            "_dom_classes": [],
            "_model_module": "@jupyter-widgets/controls",
            "_model_module_version": "1.5.0",
            "_model_name": "HBoxModel",
            "_view_count": null,
            "_view_module": "@jupyter-widgets/controls",
            "_view_module_version": "1.5.0",
            "_view_name": "HBoxView",
            "box_style": "",
            "children": [
              "IPY_MODEL_6c18128f8bf7455890524f859078152e",
              "IPY_MODEL_b9dfce93045b4ece810604c752fc1600",
              "IPY_MODEL_aae87fffbfd240cda87c68339844bf0d"
            ],
            "layout": "IPY_MODEL_77080577533449b0a82f0707eec0ffdd"
          }
        },
        "6c18128f8bf7455890524f859078152e": {
          "model_module": "@jupyter-widgets/controls",
          "model_name": "HTMLModel",
          "model_module_version": "1.5.0",
          "state": {
            "_dom_classes": [],
            "_model_module": "@jupyter-widgets/controls",
            "_model_module_version": "1.5.0",
            "_model_name": "HTMLModel",
            "_view_count": null,
            "_view_module": "@jupyter-widgets/controls",
            "_view_module_version": "1.5.0",
            "_view_name": "HTMLView",
            "description": "",
            "description_tooltip": null,
            "layout": "IPY_MODEL_17debee38d9a4537a1ce26913817dc36",
            "placeholder": "​",
            "style": "IPY_MODEL_e901be3fea4b4a05aa7a7ff186ccc6af",
            "value": "100%"
          }
        },
        "b9dfce93045b4ece810604c752fc1600": {
          "model_module": "@jupyter-widgets/controls",
          "model_name": "FloatProgressModel",
          "model_module_version": "1.5.0",
          "state": {
            "_dom_classes": [],
            "_model_module": "@jupyter-widgets/controls",
            "_model_module_version": "1.5.0",
            "_model_name": "FloatProgressModel",
            "_view_count": null,
            "_view_module": "@jupyter-widgets/controls",
            "_view_module_version": "1.5.0",
            "_view_name": "ProgressView",
            "bar_style": "success",
            "description": "",
            "description_tooltip": null,
            "layout": "IPY_MODEL_9e9ff3ccec4745c689db9604a2c77764",
            "max": 77999237,
            "min": 0,
            "orientation": "horizontal",
            "style": "IPY_MODEL_712bfeb4fdaf431eb92806c9049e5684",
            "value": 77999237
          }
        },
        "aae87fffbfd240cda87c68339844bf0d": {
          "model_module": "@jupyter-widgets/controls",
          "model_name": "HTMLModel",
          "model_module_version": "1.5.0",
          "state": {
            "_dom_classes": [],
            "_model_module": "@jupyter-widgets/controls",
            "_model_module_version": "1.5.0",
            "_model_name": "HTMLModel",
            "_view_count": null,
            "_view_module": "@jupyter-widgets/controls",
            "_view_module_version": "1.5.0",
            "_view_name": "HTMLView",
            "description": "",
            "description_tooltip": null,
            "layout": "IPY_MODEL_3989f85a6a504af0aadf1c341aeaf418",
            "placeholder": "​",
            "style": "IPY_MODEL_55466d03efda48cda3dd389f51f8fe32",
            "value": " 74.4M/74.4M [00:00&lt;00:00, 208MB/s]"
          }
        },
        "77080577533449b0a82f0707eec0ffdd": {
          "model_module": "@jupyter-widgets/base",
          "model_name": "LayoutModel",
          "model_module_version": "1.2.0",
          "state": {
            "_model_module": "@jupyter-widgets/base",
            "_model_module_version": "1.2.0",
            "_model_name": "LayoutModel",
            "_view_count": null,
            "_view_module": "@jupyter-widgets/base",
            "_view_module_version": "1.2.0",
            "_view_name": "LayoutView",
            "align_content": null,
            "align_items": null,
            "align_self": null,
            "border": null,
            "bottom": null,
            "display": null,
            "flex": null,
            "flex_flow": null,
            "grid_area": null,
            "grid_auto_columns": null,
            "grid_auto_flow": null,
            "grid_auto_rows": null,
            "grid_column": null,
            "grid_gap": null,
            "grid_row": null,
            "grid_template_areas": null,
            "grid_template_columns": null,
            "grid_template_rows": null,
            "height": null,
            "justify_content": null,
            "justify_items": null,
            "left": null,
            "margin": null,
            "max_height": null,
            "max_width": null,
            "min_height": null,
            "min_width": null,
            "object_fit": null,
            "object_position": null,
            "order": null,
            "overflow": null,
            "overflow_x": null,
            "overflow_y": null,
            "padding": null,
            "right": null,
            "top": null,
            "visibility": null,
            "width": null
          }
        },
        "17debee38d9a4537a1ce26913817dc36": {
          "model_module": "@jupyter-widgets/base",
          "model_name": "LayoutModel",
          "model_module_version": "1.2.0",
          "state": {
            "_model_module": "@jupyter-widgets/base",
            "_model_module_version": "1.2.0",
            "_model_name": "LayoutModel",
            "_view_count": null,
            "_view_module": "@jupyter-widgets/base",
            "_view_module_version": "1.2.0",
            "_view_name": "LayoutView",
            "align_content": null,
            "align_items": null,
            "align_self": null,
            "border": null,
            "bottom": null,
            "display": null,
            "flex": null,
            "flex_flow": null,
            "grid_area": null,
            "grid_auto_columns": null,
            "grid_auto_flow": null,
            "grid_auto_rows": null,
            "grid_column": null,
            "grid_gap": null,
            "grid_row": null,
            "grid_template_areas": null,
            "grid_template_columns": null,
            "grid_template_rows": null,
            "height": null,
            "justify_content": null,
            "justify_items": null,
            "left": null,
            "margin": null,
            "max_height": null,
            "max_width": null,
            "min_height": null,
            "min_width": null,
            "object_fit": null,
            "object_position": null,
            "order": null,
            "overflow": null,
            "overflow_x": null,
            "overflow_y": null,
            "padding": null,
            "right": null,
            "top": null,
            "visibility": null,
            "width": null
          }
        },
        "e901be3fea4b4a05aa7a7ff186ccc6af": {
          "model_module": "@jupyter-widgets/controls",
          "model_name": "DescriptionStyleModel",
          "model_module_version": "1.5.0",
          "state": {
            "_model_module": "@jupyter-widgets/controls",
            "_model_module_version": "1.5.0",
            "_model_name": "DescriptionStyleModel",
            "_view_count": null,
            "_view_module": "@jupyter-widgets/base",
            "_view_module_version": "1.2.0",
            "_view_name": "StyleView",
            "description_width": ""
          }
        },
        "9e9ff3ccec4745c689db9604a2c77764": {
          "model_module": "@jupyter-widgets/base",
          "model_name": "LayoutModel",
          "model_module_version": "1.2.0",
          "state": {
            "_model_module": "@jupyter-widgets/base",
            "_model_module_version": "1.2.0",
            "_model_name": "LayoutModel",
            "_view_count": null,
            "_view_module": "@jupyter-widgets/base",
            "_view_module_version": "1.2.0",
            "_view_name": "LayoutView",
            "align_content": null,
            "align_items": null,
            "align_self": null,
            "border": null,
            "bottom": null,
            "display": null,
            "flex": null,
            "flex_flow": null,
            "grid_area": null,
            "grid_auto_columns": null,
            "grid_auto_flow": null,
            "grid_auto_rows": null,
            "grid_column": null,
            "grid_gap": null,
            "grid_row": null,
            "grid_template_areas": null,
            "grid_template_columns": null,
            "grid_template_rows": null,
            "height": null,
            "justify_content": null,
            "justify_items": null,
            "left": null,
            "margin": null,
            "max_height": null,
            "max_width": null,
            "min_height": null,
            "min_width": null,
            "object_fit": null,
            "object_position": null,
            "order": null,
            "overflow": null,
            "overflow_x": null,
            "overflow_y": null,
            "padding": null,
            "right": null,
            "top": null,
            "visibility": null,
            "width": null
          }
        },
        "712bfeb4fdaf431eb92806c9049e5684": {
          "model_module": "@jupyter-widgets/controls",
          "model_name": "ProgressStyleModel",
          "model_module_version": "1.5.0",
          "state": {
            "_model_module": "@jupyter-widgets/controls",
            "_model_module_version": "1.5.0",
            "_model_name": "ProgressStyleModel",
            "_view_count": null,
            "_view_module": "@jupyter-widgets/base",
            "_view_module_version": "1.2.0",
            "_view_name": "StyleView",
            "bar_color": null,
            "description_width": ""
          }
        },
        "3989f85a6a504af0aadf1c341aeaf418": {
          "model_module": "@jupyter-widgets/base",
          "model_name": "LayoutModel",
          "model_module_version": "1.2.0",
          "state": {
            "_model_module": "@jupyter-widgets/base",
            "_model_module_version": "1.2.0",
            "_model_name": "LayoutModel",
            "_view_count": null,
            "_view_module": "@jupyter-widgets/base",
            "_view_module_version": "1.2.0",
            "_view_name": "LayoutView",
            "align_content": null,
            "align_items": null,
            "align_self": null,
            "border": null,
            "bottom": null,
            "display": null,
            "flex": null,
            "flex_flow": null,
            "grid_area": null,
            "grid_auto_columns": null,
            "grid_auto_flow": null,
            "grid_auto_rows": null,
            "grid_column": null,
            "grid_gap": null,
            "grid_row": null,
            "grid_template_areas": null,
            "grid_template_columns": null,
            "grid_template_rows": null,
            "height": null,
            "justify_content": null,
            "justify_items": null,
            "left": null,
            "margin": null,
            "max_height": null,
            "max_width": null,
            "min_height": null,
            "min_width": null,
            "object_fit": null,
            "object_position": null,
            "order": null,
            "overflow": null,
            "overflow_x": null,
            "overflow_y": null,
            "padding": null,
            "right": null,
            "top": null,
            "visibility": null,
            "width": null
          }
        },
        "55466d03efda48cda3dd389f51f8fe32": {
          "model_module": "@jupyter-widgets/controls",
          "model_name": "DescriptionStyleModel",
          "model_module_version": "1.5.0",
          "state": {
            "_model_module": "@jupyter-widgets/controls",
            "_model_module_version": "1.5.0",
            "_model_name": "DescriptionStyleModel",
            "_view_count": null,
            "_view_module": "@jupyter-widgets/base",
            "_view_module_version": "1.2.0",
            "_view_name": "StyleView",
            "description_width": ""
          }
        }
      }
    }
  },
  "nbformat": 4,
  "nbformat_minor": 0
}