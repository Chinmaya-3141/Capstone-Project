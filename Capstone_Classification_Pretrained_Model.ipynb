{
  "nbformat": 4,
  "nbformat_minor": 0,
  "metadata": {
    "colab": {
      "provenance": [],
      "authorship_tag": "ABX9TyNbrHBdB9l1ygJsEIq0t3Fk",
      "include_colab_link": true
    },
    "kernelspec": {
      "name": "python3",
      "display_name": "Python 3"
    },
    "language_info": {
      "name": "python"
    },
    "accelerator": "GPU",
    "gpuClass": "standard"
  },
  "cells": [
    {
      "cell_type": "markdown",
      "metadata": {
        "id": "view-in-github",
        "colab_type": "text"
      },
      "source": [
        "<a href=\"https://colab.research.google.com/github/Chinmaya-3141/Capstone-Project/blob/main/Capstone_Classification_Pretrained_Model.ipynb\" target=\"_parent\"><img src=\"https://colab.research.google.com/assets/colab-badge.svg\" alt=\"Open In Colab\"/></a>"
      ]
    },
    {
      "cell_type": "code",
      "execution_count": null,
      "metadata": {
        "colab": {
          "base_uri": "https://localhost:8080/"
        },
        "id": "r-1GObdcBoCn",
        "outputId": "5cc5a370-9d7d-427d-e8fa-543b8d23ce5a"
      },
      "outputs": [
        {
          "output_type": "stream",
          "name": "stdout",
          "text": [
            "Mounted at /content/drive\n"
          ]
        }
      ],
      "source": [
        "# Mount Google Drive\n",
        "from google.colab import drive\n",
        "drive.mount('/content/drive')"
      ]
    },
    {
      "cell_type": "code",
      "source": [
        "import os\n",
        "import time\n",
        "import numpy as np\n",
        "from numba import cuda\n",
        "\n",
        "import torch\n",
        "import torch.nn as nn\n",
        "import torch.optim as optim\n",
        "from torchvision.datasets import ImageFolder\n",
        "from torch.utils.data import DataLoader\n",
        "\n",
        "from torchvision import datasets, transforms"
      ],
      "metadata": {
        "id": "BVH_UIqHBpAl"
      },
      "execution_count": null,
      "outputs": []
    },
    {
      "cell_type": "code",
      "source": [
        "# Check if GPU is available\n",
        "\n",
        "device = torch.device(\"cuda\" if torch.cuda.is_available() else \"cpu\")\n",
        "print(\"Using device:\", device)"
      ],
      "metadata": {
        "colab": {
          "base_uri": "https://localhost:8080/"
        },
        "id": "Df08Cj6pBuYB",
        "outputId": "5cb45f87-6bd8-436c-d386-351a29de23b5"
      },
      "execution_count": null,
      "outputs": [
        {
          "output_type": "stream",
          "name": "stdout",
          "text": [
            "Using device: cuda\n"
          ]
        }
      ]
    },
    {
      "cell_type": "code",
      "source": [
        "file = '/content/drive/MyDrive/Capstone Data (Shared)/Capstone Data/TrainedModelCheckpoints/AdamW-lr001-Batch64-15epochs.pth'"
      ],
      "metadata": {
        "id": "if99rO2pD4ve"
      },
      "execution_count": null,
      "outputs": []
    },
    {
      "cell_type": "code",
      "source": [
        "!pip install torchinfo"
      ],
      "metadata": {
        "colab": {
          "base_uri": "https://localhost:8080/"
        },
        "id": "zTDn99EDHkDq",
        "outputId": "cfa384c5-e6e7-4cf8-b2e9-3d6ad89d283d"
      },
      "execution_count": null,
      "outputs": [
        {
          "output_type": "stream",
          "name": "stdout",
          "text": [
            "Looking in indexes: https://pypi.org/simple, https://us-python.pkg.dev/colab-wheels/public/simple/\n",
            "Collecting torchinfo\n",
            "  Downloading torchinfo-1.7.2-py3-none-any.whl (22 kB)\n",
            "Installing collected packages: torchinfo\n",
            "Successfully installed torchinfo-1.7.2\n"
          ]
        }
      ]
    },
    {
      "cell_type": "code",
      "source": [
        "from torchinfo import summary"
      ],
      "metadata": {
        "id": "0rPkrP4DBzeV"
      },
      "execution_count": null,
      "outputs": []
    },
    {
      "cell_type": "code",
      "source": [
        "checkpoint = torch.load(file)"
      ],
      "metadata": {
        "id": "_g4RHH8YB3il"
      },
      "execution_count": null,
      "outputs": []
    },
    {
      "cell_type": "code",
      "source": [
        "# Define the CNN model\n",
        "\n",
        "class CNNModel(nn.Module):\n",
        "    def __init__(self):\n",
        "        super(CNNModel, self).__init__()\n",
        "        self.conv_layer = nn.Sequential(\n",
        "            # input layer\n",
        "            nn.Conv2d(in_channels=3, out_channels=16, kernel_size=3, padding=1),\n",
        "            nn.ReLU(inplace=True),\n",
        "            nn.MaxPool2d(kernel_size=2),\n",
        "            \n",
        "            # Hidden Layer\n",
        "            nn.Conv2d(in_channels=16, out_channels=32, kernel_size=3, padding=1),\n",
        "            nn.ReLU(inplace=True),\n",
        "            nn.MaxPool2d(kernel_size=2),\n",
        "\n",
        "            # Hidden Layer\n",
        "            nn.Conv2d(in_channels=32, out_channels=64, kernel_size=3, padding=1),\n",
        "            nn.ReLU(inplace=True),\n",
        "            nn.MaxPool2d(kernel_size=2),\n",
        "            \n",
        "            # Hidden Layer\n",
        "            nn.Conv2d(in_channels=64, out_channels=128, kernel_size=3, padding=1),\n",
        "            nn.ReLU(inplace=True),\n",
        "            nn.MaxPool2d(kernel_size=2)\n",
        "        )\n",
        "        self.fc_layer = nn.Sequential(\n",
        "            # Hidden Layer\n",
        "            nn.Linear(128 * 20 * 20, 512),\n",
        "            nn.ReLU(inplace=True),\n",
        "\n",
        "            # Hidden Layer\n",
        "            nn.Linear(512, 256),\n",
        "            nn.ReLU(inplace=True),\n",
        "\n",
        "            # Output Layer\n",
        "            nn.Linear(256, 3)\n",
        "        )\n",
        "\n",
        "    def forward(self, x):\n",
        "        x = self.conv_layer(x)\n",
        "        x = x.view(x.size(0), -1)\n",
        "        x = self.fc_layer(x)\n",
        "        return x"
      ],
      "metadata": {
        "id": "WMGMplJiEvpm"
      },
      "execution_count": null,
      "outputs": []
    },
    {
      "cell_type": "code",
      "source": [
        "model2 = CNNModel().to(device)\n",
        "optimizer2 = optim.Adam(model2.parameters(),lr=0.001)"
      ],
      "metadata": {
        "id": "pdi7bAa7Epzr"
      },
      "execution_count": null,
      "outputs": []
    },
    {
      "cell_type": "code",
      "source": [
        "model2.load_state_dict(checkpoint['model_state_dict'])\n",
        "optimizer2.load_state_dict(checkpoint['optimizer_state_dict'])\n",
        "epoch = checkpoint[\"epoch\"]\n",
        "loss = checkpoint['loss']"
      ],
      "metadata": {
        "id": "enWpFLP8EjR2"
      },
      "execution_count": null,
      "outputs": []
    },
    {
      "cell_type": "code",
      "source": [
        "summary(model2,input_size = (64,3,320,320))"
      ],
      "metadata": {
        "colab": {
          "base_uri": "https://localhost:8080/"
        },
        "id": "ESuJc30QHHpL",
        "outputId": "4770009d-645e-433c-f2e0-86c89145a96d"
      },
      "execution_count": null,
      "outputs": [
        {
          "output_type": "execute_result",
          "data": {
            "text/plain": [
              "==========================================================================================\n",
              "Layer (type:depth-idx)                   Output Shape              Param #\n",
              "==========================================================================================\n",
              "CNNModel                                 [64, 3]                   --\n",
              "├─Sequential: 1-1                        [64, 128, 20, 20]         --\n",
              "│    └─Conv2d: 2-1                       [64, 16, 320, 320]        448\n",
              "│    └─ReLU: 2-2                         [64, 16, 320, 320]        --\n",
              "│    └─MaxPool2d: 2-3                    [64, 16, 160, 160]        --\n",
              "│    └─Conv2d: 2-4                       [64, 32, 160, 160]        4,640\n",
              "│    └─ReLU: 2-5                         [64, 32, 160, 160]        --\n",
              "│    └─MaxPool2d: 2-6                    [64, 32, 80, 80]          --\n",
              "│    └─Conv2d: 2-7                       [64, 64, 80, 80]          18,496\n",
              "│    └─ReLU: 2-8                         [64, 64, 80, 80]          --\n",
              "│    └─MaxPool2d: 2-9                    [64, 64, 40, 40]          --\n",
              "│    └─Conv2d: 2-10                      [64, 128, 40, 40]         73,856\n",
              "│    └─ReLU: 2-11                        [64, 128, 40, 40]         --\n",
              "│    └─MaxPool2d: 2-12                   [64, 128, 20, 20]         --\n",
              "├─Sequential: 1-2                        [64, 3]                   --\n",
              "│    └─Linear: 2-13                      [64, 512]                 26,214,912\n",
              "│    └─ReLU: 2-14                        [64, 512]                 --\n",
              "│    └─Linear: 2-15                      [64, 256]                 131,328\n",
              "│    └─ReLU: 2-16                        [64, 256]                 --\n",
              "│    └─Linear: 2-17                      [64, 3]                   771\n",
              "==========================================================================================\n",
              "Total params: 26,444,451\n",
              "Trainable params: 26,444,451\n",
              "Non-trainable params: 0\n",
              "Total mult-adds (G): 27.36\n",
              "==========================================================================================\n",
              "Input size (MB): 78.64\n",
              "Forward/backward pass size (MB): 1573.26\n",
              "Params size (MB): 105.78\n",
              "Estimated Total Size (MB): 1757.68\n",
              "=========================================================================================="
            ]
          },
          "metadata": {},
          "execution_count": 11
        }
      ]
    },
    {
      "cell_type": "code",
      "source": [
        "# Set path here, access file path changes person to person\n",
        "\n",
        "path = '/content/drive/MyDrive/Capstone Data (Shared)/Capstone Data/Resized Data/Resized Data_320x320'"
      ],
      "metadata": {
        "id": "qblE3wnKB5wH"
      },
      "execution_count": null,
      "outputs": []
    },
    {
      "cell_type": "code",
      "source": [
        "# Define the transform for the data\n",
        "\n",
        "transform = transforms.Compose([\n",
        "    transforms.Resize((320, 320)),\n",
        "    transforms.ToTensor(),\n",
        "    transforms.Normalize((0.5,), (0.5,))\n",
        "])"
      ],
      "metadata": {
        "id": "QOwnAWUXB7zj"
      },
      "execution_count": null,
      "outputs": []
    },
    {
      "cell_type": "code",
      "source": [
        "# Load the data from the combined folder\n",
        "\n",
        "data = ImageFolder(root=path, transform=transform)"
      ],
      "metadata": {
        "id": "pVsKj5aFE_fe"
      },
      "execution_count": null,
      "outputs": []
    },
    {
      "cell_type": "code",
      "source": [
        "data.classes"
      ],
      "metadata": {
        "colab": {
          "base_uri": "https://localhost:8080/"
        },
        "id": "tS0NfbvJA60F",
        "outputId": "79adf895-3111-458a-fa97-9e608497c1aa"
      },
      "execution_count": null,
      "outputs": [
        {
          "output_type": "execute_result",
          "data": {
            "text/plain": [
              "['Covid', 'Normal', 'Pneumonia']"
            ]
          },
          "metadata": {},
          "execution_count": 48
        }
      ]
    },
    {
      "cell_type": "code",
      "source": [
        "data.class_to_idx"
      ],
      "metadata": {
        "colab": {
          "base_uri": "https://localhost:8080/"
        },
        "id": "ClexUaVjA3v6",
        "outputId": "d5c2cd16-74af-4d43-893d-4d149545ba16"
      },
      "execution_count": null,
      "outputs": [
        {
          "output_type": "execute_result",
          "data": {
            "text/plain": [
              "{'Covid': 0, 'Normal': 1, 'Pneumonia': 2}"
            ]
          },
          "metadata": {},
          "execution_count": 49
        }
      ]
    },
    {
      "cell_type": "code",
      "source": [
        "# Split the data into training and testing sets\n",
        "\n",
        "train_data, test_data = torch.utils.data.random_split(data, [int(0.8*len(data)), len(data)-int(0.8*len(data))])"
      ],
      "metadata": {
        "id": "L0HULAtYE_bw"
      },
      "execution_count": null,
      "outputs": []
    },
    {
      "cell_type": "code",
      "source": [
        "# Define the data loaders\n",
        "\n",
        "train_loader = DataLoader(train_data, batch_size=64, shuffle=True)\n",
        "test_loader = DataLoader(test_data, batch_size=64, shuffle=False)"
      ],
      "metadata": {
        "id": "sp0e4OkvE_Yo"
      },
      "execution_count": null,
      "outputs": []
    },
    {
      "cell_type": "code",
      "source": [
        "# Evaluate the model on test data\n",
        "\n",
        "correct = 0\n",
        "total = 0\n",
        "predictions=[]\n",
        "actuals=[]\n",
        "with torch.no_grad():\n",
        "    for datavar in test_loader:\n",
        "        images, labels = datavar\n",
        "        images,labels = images.to(device),labels.to(device)\n",
        "        outputs = model2(images)\n",
        "        predicted = torch.argmax(outputs.datavar, 1)\n",
        "        total += labels.size(0)\n",
        "        correct += (predicted == labels).sum().item()\n",
        "        pred_arr = predicted.cpu().detach().numpy()\n",
        "        actual_arr = labels.cpu().detach().numpy()\n",
        "        predictions.append(pred_arr)\n",
        "        actuals.append(actual_arr)\n",
        "\n",
        "print('Accuracy of the network on the test images: %f %%'% (100 * correct / total))"
      ],
      "metadata": {
        "colab": {
          "base_uri": "https://localhost:8080/"
        },
        "id": "W0m3baCwK4EC",
        "outputId": "d59484a6-2246-4b76-d1d8-c04cc701170a"
      },
      "execution_count": null,
      "outputs": [
        {
          "output_type": "stream",
          "name": "stdout",
          "text": [
            "Accuracy of the network on the test images: 99.347684 %\n"
          ]
        }
      ]
    },
    {
      "cell_type": "code",
      "source": [
        "# predictions"
      ],
      "metadata": {
        "colab": {
          "base_uri": "https://localhost:8080/"
        },
        "id": "sk0fpz9t_yut",
        "outputId": "bdb49d6e-4f92-400e-a50b-d6a6ce99a6b0"
      },
      "execution_count": null,
      "outputs": [
        {
          "output_type": "execute_result",
          "data": {
            "text/plain": [
              "[array([1, 1, 1, 0, 1, 1, 1, 2, 0, 0, 2, 2, 0, 0, 1, 1, 0, 1, 2, 1, 1, 0,\n",
              "        0, 0, 1, 2, 0, 0, 0, 0, 1, 0, 1, 0, 2, 1, 0, 0, 0, 1, 2, 0, 1, 1,\n",
              "        0, 1, 0, 0, 0, 0, 1, 0, 0, 1, 1, 1, 1, 0, 0, 0, 0, 0, 2, 1]),\n",
              " array([0, 1, 1, 1, 1, 0, 0, 0, 2, 1, 0, 0, 1, 1, 0, 1, 0, 0, 0, 2, 0, 0,\n",
              "        1, 1, 0, 1, 1, 0, 1, 1, 0, 1, 2, 1, 0, 1, 1, 1, 1, 1, 0, 0, 1, 1,\n",
              "        2, 1, 2, 2, 1, 0, 0, 0, 1, 0, 0, 1, 2, 0, 0, 1, 1, 0, 0, 0]),\n",
              " array([0, 2, 0, 1, 0, 2, 2, 2, 2, 1, 0, 1, 2, 0, 1, 0, 2, 0, 2, 0, 2, 2,\n",
              "        0, 0, 1, 1, 2, 0, 0, 1, 1, 0, 1, 1, 1, 0, 2, 0, 1, 0, 1, 1, 1, 0,\n",
              "        0, 0, 1, 0, 1, 0, 0, 1, 0, 0, 0, 1, 0, 0, 0, 0, 1, 1, 1, 2]),\n",
              " array([1, 1, 1, 1, 1, 0, 1, 1, 0, 2, 0, 1, 1, 0, 1, 0, 2, 0, 1, 0, 0, 1,\n",
              "        1, 2, 0, 2, 0, 1, 0, 1, 0, 0, 0, 1, 1, 1, 0, 1, 0, 2, 1, 0, 2, 2,\n",
              "        0, 0, 1, 1, 0, 1, 2, 1, 1, 2, 2, 0, 0, 2, 0, 0, 2, 1, 1, 0]),\n",
              " array([0, 2, 0, 0, 0, 2, 0, 0, 2, 0, 2, 1, 1, 0, 2, 0, 1, 2, 2, 1, 0, 2,\n",
              "        0, 0, 1, 0, 2, 0, 0, 1, 0, 0, 2, 1, 1, 0, 0, 1, 0, 0, 1, 1, 1, 1,\n",
              "        1, 0, 0, 0, 1, 1, 1, 0, 0, 0, 1, 0, 0, 0, 0, 1, 0, 0, 0, 2]),\n",
              " array([1, 0, 0, 0, 0, 2, 1, 1, 2, 2, 1, 0, 0, 2, 1, 0, 0, 0, 2, 1, 0, 1,\n",
              "        0, 1, 2, 0, 1, 0, 1, 0, 1, 1, 1, 1, 1, 1, 1, 2, 0, 0, 1, 1, 0, 0,\n",
              "        2, 0, 1, 0, 0, 1, 1, 1, 0, 1, 1, 1, 0, 2, 1, 1, 2, 0, 1, 0]),\n",
              " array([1, 0, 0, 0, 1, 0, 2, 0, 0, 1, 1, 1, 0, 0, 0, 2, 1, 2, 2, 1, 2, 0,\n",
              "        0, 0, 2, 2, 1, 1, 0, 0, 1, 2, 1, 0, 1, 1, 1, 0, 1, 0, 1, 1, 1, 0,\n",
              "        0, 1, 2, 1, 0, 0, 2, 1, 1, 0, 1, 1, 0, 0, 1, 1, 0, 1, 2, 1]),\n",
              " array([1, 0, 1, 2, 0, 1, 1, 2, 2, 0, 1, 1, 1, 1, 0, 0, 1, 1, 1, 0, 0, 0,\n",
              "        1, 2, 0, 1, 0, 1, 1, 1, 2, 0, 1, 1, 1, 0, 1, 1, 2, 2, 0, 2, 1, 2,\n",
              "        0, 1, 0, 1, 1, 0, 1, 2, 0, 0, 2, 2, 1, 2, 1, 0, 1, 2, 1, 1]),\n",
              " array([1, 1, 0, 2, 1, 0, 0, 2, 2, 0, 2, 1, 0, 0, 2, 1, 0, 1, 0, 0, 1, 0,\n",
              "        2, 2, 0, 0, 2, 1, 1, 2, 1, 1, 2, 0, 0, 1, 0, 1, 0, 0, 0, 1, 1, 0,\n",
              "        1, 2, 0, 2, 0, 0, 0, 0, 2, 2, 0, 0, 0, 1, 0, 0, 1, 1, 2, 0]),\n",
              " array([1, 1, 1, 1, 0, 0, 0, 1, 1, 0, 0, 1, 0, 2, 0, 0, 0, 2, 0, 0, 2, 0,\n",
              "        0, 0, 0, 1, 0, 1, 1, 0, 0, 1, 1, 1, 2, 1, 1, 1, 0, 1, 0, 1, 0, 1,\n",
              "        1, 1, 0, 1, 1, 0, 2, 2, 1, 1, 1, 0, 1, 1, 1, 0, 1, 2, 0, 1]),\n",
              " array([2, 2, 2, 0, 1, 0, 0, 0, 0, 1, 1, 1, 2, 0, 1, 0, 1, 1, 2, 0, 1, 1,\n",
              "        2, 1, 0, 1, 1, 1, 1, 1, 2, 1, 1, 1, 1, 0, 1, 2, 1, 0, 1, 1, 1, 0,\n",
              "        1, 0, 1, 2, 0, 1, 0, 0, 0, 0, 2, 0, 0, 0, 0, 2, 0, 2, 0, 1]),\n",
              " array([0, 1, 2, 1, 1, 0, 1, 1, 0, 1, 0, 0, 1, 1, 2, 0, 2, 1, 1, 0, 1, 1,\n",
              "        1, 0, 1, 0, 2, 2, 1, 1, 0, 0, 1, 0, 0, 1, 1, 1, 1, 0, 1, 2, 2, 1,\n",
              "        1, 0, 1, 1, 2, 1, 2, 1, 0, 0, 2, 2, 1, 0, 0, 1, 1, 2, 0, 1]),\n",
              " array([1, 0, 0, 0, 1, 2, 2, 2, 1, 1, 1, 0, 2, 0, 0, 0, 1, 0, 1, 0, 2, 1,\n",
              "        0, 1, 0, 0, 0, 0, 0, 0, 1, 0, 2, 1, 1, 2, 2, 0, 1, 1, 0, 0, 1, 1,\n",
              "        0, 0, 0, 2, 2, 1, 1, 2, 0, 0, 1, 0, 2, 1, 1, 0, 2, 1, 1, 1]),\n",
              " array([0, 1, 0, 1, 1, 1, 1, 0, 0, 2, 0, 0, 0, 0, 0, 0, 1, 0, 1, 1, 1, 1,\n",
              "        0, 1, 0, 1, 0, 1, 1, 1, 1, 0, 0, 1, 1, 0, 1, 1, 1, 1, 1, 2, 1, 2,\n",
              "        2, 1, 1, 0, 0, 1, 1, 2, 0, 0, 0, 0, 0, 0, 0, 0, 2, 0, 1, 1]),\n",
              " array([1, 2, 1, 0, 0, 2, 0, 2, 0, 0, 2, 0, 2, 0, 1, 1, 1, 0, 2, 2, 0, 1,\n",
              "        0, 0, 1, 1, 0, 2, 0, 0, 0, 0, 1, 0, 0, 0, 0, 1, 2, 0, 1, 0, 0, 1,\n",
              "        2, 0, 0, 0, 2, 0, 1, 1, 1, 0, 1, 0, 1, 0, 0, 1, 0, 0, 0, 2]),\n",
              " array([1, 0, 1, 0, 0, 1, 1, 0, 2, 2, 1, 0, 1, 0, 0, 0, 0, 1, 1, 2, 0, 0,\n",
              "        1, 1, 2, 0, 1, 1, 2, 0, 0, 2, 0, 0, 0, 1, 1, 0, 1, 2, 1, 0, 1, 1,\n",
              "        2, 0, 1, 1, 0, 1, 1, 0, 0, 0, 2, 0, 0, 0, 2, 1, 0, 2, 1, 1]),\n",
              " array([0, 0, 0, 0, 0, 1, 0, 1, 0, 1, 0, 2, 0, 0, 1, 0, 0, 0, 0, 1, 0, 2,\n",
              "        0, 0, 0, 0, 2, 1, 0, 0, 0, 2, 2, 0, 1, 2, 0, 1, 1, 2, 0, 1, 0, 1,\n",
              "        1, 1, 1, 1, 2, 0, 0, 1, 0, 0, 1, 1, 1, 2, 0, 1, 1, 0, 1, 0]),\n",
              " array([0, 0, 0, 0, 0, 2, 1, 0, 0, 1, 1, 1, 1, 0, 1, 0, 1, 1, 1, 1, 0, 0,\n",
              "        0, 0, 1, 1, 0, 0, 2, 1, 2, 1, 1, 1, 0, 0, 0, 0, 2, 2, 0, 1, 1, 1,\n",
              "        2, 0, 1, 0, 2, 0, 0, 0, 1, 1, 1, 2, 2, 1, 0, 0, 1, 0, 1, 2]),\n",
              " array([0, 2, 1, 2, 0, 1, 2, 1, 1, 1, 1, 2, 0, 0, 1, 0, 1, 0, 2, 1, 1, 1,\n",
              "        1, 1, 0, 0, 2, 0, 2, 1, 0, 1, 0, 0, 1, 0, 0, 0, 0, 0, 2, 0, 2, 0,\n",
              "        0, 2, 0, 2, 1, 1, 1, 2, 0, 1, 0, 0, 1, 1, 0, 0, 1, 0, 1, 1]),\n",
              " array([1, 0, 1, 0, 0, 0, 2, 1, 0, 0, 1, 2, 0, 0, 0, 1, 0, 0, 1, 0, 0, 1,\n",
              "        1, 0, 0, 0, 1, 1, 0, 0, 2, 1, 0, 0, 0, 2, 1, 0, 2, 1, 0, 2, 1, 0,\n",
              "        2, 0, 1, 1, 2, 1, 0, 0, 1, 1, 2, 1, 2, 0, 0, 1, 1, 1, 0, 0]),\n",
              " array([1, 1, 0, 1, 0, 1, 0, 1, 1, 0, 1, 0, 0, 2, 1, 0, 0, 0, 0, 0, 2, 0,\n",
              "        0, 1, 0, 0, 1, 0, 0, 0, 2, 1, 1, 1, 2, 0, 0, 1, 1, 1, 0, 0, 2, 1,\n",
              "        0, 0, 0, 0, 0, 1, 1, 2, 2, 0, 0, 2, 2, 2, 0, 1, 0, 1, 0, 0]),\n",
              " array([2, 0, 1, 0, 2, 0, 0, 0, 1, 2, 1, 0, 0, 0, 0, 2, 0, 1, 0, 0, 0, 2,\n",
              "        2, 0, 0, 2, 0, 0, 2, 2, 0, 2, 0, 0, 2, 0, 1, 0, 0, 1, 0, 0, 2, 0,\n",
              "        0, 1, 0, 0, 0, 1, 0, 0, 2, 0, 1, 2, 0, 1, 1, 2, 1, 0, 1, 1]),\n",
              " array([1, 0, 1, 1, 1, 2, 1, 0, 0, 1, 1, 0, 0, 1, 2, 1, 0, 0, 2, 1, 0, 1,\n",
              "        0, 2, 1, 0, 1, 1, 1, 1, 2, 1, 1, 1, 1, 2, 0, 0, 0, 1, 2, 0, 0, 1,\n",
              "        0, 1, 1, 2, 0, 1, 0, 0, 1, 1, 1, 1, 0, 1, 0, 0, 0, 1, 1, 0]),\n",
              " array([0, 2, 1, 0, 0, 1, 1, 1, 0, 1, 0, 0, 1, 0, 1, 2, 1, 0, 0, 1, 0, 1,\n",
              "        1, 0, 1, 2, 1, 1, 0, 0, 1, 0, 2, 2, 1, 0, 1, 1, 0, 1, 0, 1, 0, 0,\n",
              "        0, 0, 0, 2, 2, 1, 0, 1, 0, 1, 2, 1, 2, 1, 1, 1, 0])]"
            ]
          },
          "metadata": {},
          "execution_count": 39
        }
      ]
    },
    {
      "cell_type": "code",
      "source": [
        "pred=np.concatenate(predictions)"
      ],
      "metadata": {
        "id": "dJtIVATx_Ape"
      },
      "execution_count": null,
      "outputs": []
    },
    {
      "cell_type": "code",
      "source": [
        "print(pred)"
      ],
      "metadata": {
        "colab": {
          "base_uri": "https://localhost:8080/"
        },
        "id": "4roVBe5w_kZt",
        "outputId": "6e0cbe66-4c40-4bd0-8a47-681492c381b5"
      },
      "execution_count": null,
      "outputs": [
        {
          "output_type": "stream",
          "name": "stdout",
          "text": [
            "[1 1 1 ... 1 1 0]\n"
          ]
        }
      ]
    },
    {
      "cell_type": "code",
      "source": [
        "# actuals"
      ],
      "metadata": {
        "colab": {
          "base_uri": "https://localhost:8080/"
        },
        "id": "wXWrpan-ANfn",
        "outputId": "db491a79-9ee3-4584-f744-2275b3b8b300"
      },
      "execution_count": null,
      "outputs": [
        {
          "output_type": "execute_result",
          "data": {
            "text/plain": [
              "[array([1, 1, 1, 0, 1, 1, 1, 2, 0, 0, 2, 2, 0, 0, 1, 1, 0, 1, 2, 1, 1, 0,\n",
              "        0, 0, 1, 2, 0, 0, 0, 0, 1, 0, 1, 0, 2, 1, 0, 0, 0, 1, 2, 0, 1, 1,\n",
              "        0, 1, 0, 0, 0, 0, 1, 0, 0, 1, 2, 1, 1, 0, 0, 0, 0, 0, 2, 1]),\n",
              " array([0, 1, 1, 1, 1, 0, 0, 0, 2, 1, 0, 0, 1, 1, 0, 1, 0, 0, 0, 2, 0, 0,\n",
              "        1, 1, 0, 1, 1, 0, 1, 1, 0, 1, 2, 1, 0, 1, 1, 1, 1, 1, 2, 0, 1, 1,\n",
              "        2, 1, 2, 2, 1, 0, 0, 0, 1, 0, 0, 1, 2, 0, 0, 1, 1, 0, 0, 0]),\n",
              " array([0, 2, 0, 1, 0, 2, 2, 2, 2, 1, 0, 1, 2, 0, 1, 0, 2, 0, 2, 0, 2, 2,\n",
              "        0, 0, 1, 1, 2, 0, 0, 1, 1, 0, 1, 1, 1, 0, 2, 0, 1, 0, 1, 1, 1, 0,\n",
              "        0, 0, 1, 0, 1, 0, 0, 1, 0, 0, 0, 1, 0, 0, 0, 0, 1, 1, 2, 2]),\n",
              " array([1, 1, 1, 1, 1, 0, 1, 1, 0, 2, 0, 1, 1, 0, 1, 0, 2, 0, 1, 0, 0, 1,\n",
              "        1, 2, 0, 2, 0, 1, 0, 1, 0, 0, 0, 1, 1, 1, 0, 1, 0, 2, 1, 0, 2, 2,\n",
              "        0, 0, 1, 1, 0, 1, 2, 1, 1, 2, 2, 0, 0, 2, 0, 0, 2, 1, 1, 0]),\n",
              " array([0, 2, 0, 0, 0, 2, 0, 0, 2, 0, 2, 1, 1, 0, 2, 0, 1, 2, 2, 1, 0, 2,\n",
              "        0, 0, 1, 0, 2, 0, 0, 1, 0, 0, 2, 1, 1, 0, 0, 1, 0, 0, 1, 1, 1, 1,\n",
              "        1, 0, 0, 0, 1, 1, 1, 0, 0, 0, 1, 0, 0, 0, 0, 1, 0, 0, 0, 2]),\n",
              " array([1, 0, 0, 0, 0, 2, 1, 1, 2, 2, 1, 0, 0, 2, 1, 0, 0, 0, 2, 1, 0, 1,\n",
              "        0, 1, 2, 0, 1, 0, 1, 0, 1, 1, 1, 1, 1, 1, 1, 2, 0, 0, 1, 1, 0, 0,\n",
              "        2, 0, 1, 0, 0, 1, 1, 1, 0, 1, 1, 1, 0, 2, 1, 1, 2, 0, 1, 0]),\n",
              " array([1, 0, 0, 0, 1, 0, 2, 0, 0, 1, 1, 1, 0, 0, 0, 2, 1, 2, 1, 1, 2, 0,\n",
              "        0, 0, 2, 2, 1, 1, 0, 0, 1, 2, 1, 0, 1, 1, 1, 0, 1, 0, 1, 1, 1, 0,\n",
              "        0, 1, 2, 1, 0, 0, 2, 1, 1, 0, 1, 1, 0, 0, 1, 1, 0, 1, 2, 1]),\n",
              " array([1, 0, 1, 2, 0, 1, 1, 2, 2, 0, 1, 1, 1, 1, 0, 0, 1, 1, 1, 0, 0, 0,\n",
              "        1, 2, 0, 1, 0, 1, 1, 1, 2, 0, 1, 1, 1, 0, 1, 1, 2, 2, 0, 2, 1, 2,\n",
              "        0, 1, 0, 1, 1, 0, 1, 2, 0, 0, 2, 2, 1, 2, 1, 0, 1, 2, 1, 1]),\n",
              " array([1, 1, 0, 2, 1, 0, 0, 2, 2, 0, 2, 1, 0, 0, 2, 1, 0, 1, 0, 0, 1, 0,\n",
              "        2, 0, 0, 0, 2, 1, 1, 2, 1, 1, 2, 0, 0, 1, 0, 1, 0, 0, 0, 1, 1, 0,\n",
              "        1, 2, 0, 2, 0, 0, 0, 0, 2, 2, 0, 0, 0, 1, 0, 0, 1, 1, 2, 0]),\n",
              " array([1, 1, 1, 1, 0, 0, 0, 1, 1, 0, 0, 1, 0, 2, 0, 0, 0, 2, 0, 0, 2, 0,\n",
              "        0, 0, 0, 1, 0, 1, 1, 0, 0, 1, 1, 1, 2, 1, 1, 1, 0, 1, 0, 1, 0, 1,\n",
              "        1, 1, 0, 1, 1, 0, 2, 2, 1, 1, 1, 0, 1, 1, 1, 0, 1, 2, 0, 1]),\n",
              " array([2, 2, 2, 0, 1, 0, 0, 0, 0, 1, 1, 1, 2, 0, 1, 0, 1, 1, 2, 0, 1, 1,\n",
              "        2, 1, 0, 1, 1, 1, 1, 1, 2, 1, 1, 1, 1, 0, 1, 2, 1, 0, 1, 1, 1, 0,\n",
              "        1, 0, 1, 2, 0, 1, 0, 0, 0, 0, 2, 0, 0, 0, 0, 2, 0, 2, 0, 1]),\n",
              " array([0, 1, 2, 1, 1, 0, 1, 1, 0, 1, 0, 0, 1, 1, 2, 0, 2, 1, 1, 0, 1, 1,\n",
              "        1, 0, 1, 0, 2, 2, 1, 1, 0, 0, 1, 0, 0, 1, 1, 1, 1, 0, 1, 2, 2, 1,\n",
              "        1, 0, 1, 1, 2, 1, 2, 1, 0, 0, 2, 2, 1, 0, 0, 1, 0, 2, 0, 1]),\n",
              " array([1, 0, 0, 0, 1, 2, 2, 2, 1, 1, 1, 0, 2, 0, 0, 0, 1, 0, 1, 0, 2, 1,\n",
              "        0, 1, 0, 0, 0, 0, 0, 0, 1, 0, 2, 1, 1, 2, 2, 0, 1, 1, 0, 0, 1, 1,\n",
              "        0, 0, 0, 2, 2, 1, 1, 2, 0, 0, 1, 0, 2, 1, 1, 0, 2, 1, 1, 1]),\n",
              " array([0, 1, 0, 1, 1, 1, 1, 0, 0, 2, 0, 0, 0, 0, 0, 0, 1, 0, 1, 2, 0, 1,\n",
              "        0, 1, 0, 1, 0, 1, 1, 1, 1, 0, 0, 1, 1, 0, 1, 1, 1, 1, 1, 2, 1, 2,\n",
              "        2, 1, 1, 0, 0, 1, 1, 2, 0, 0, 0, 0, 0, 0, 0, 0, 2, 0, 1, 1]),\n",
              " array([1, 2, 1, 0, 0, 2, 0, 2, 0, 0, 2, 0, 2, 0, 1, 1, 1, 0, 2, 2, 0, 1,\n",
              "        0, 0, 1, 1, 0, 2, 0, 0, 0, 0, 1, 0, 0, 0, 0, 1, 2, 0, 1, 0, 0, 1,\n",
              "        2, 1, 0, 0, 2, 0, 1, 1, 1, 0, 1, 0, 1, 0, 0, 1, 0, 0, 0, 2]),\n",
              " array([1, 0, 1, 0, 0, 1, 1, 0, 2, 2, 1, 0, 1, 0, 0, 0, 0, 1, 1, 2, 0, 0,\n",
              "        1, 1, 2, 0, 1, 1, 2, 0, 0, 2, 0, 0, 0, 1, 1, 0, 1, 2, 1, 0, 1, 1,\n",
              "        2, 0, 1, 1, 0, 1, 1, 0, 0, 0, 2, 0, 0, 0, 2, 1, 0, 2, 1, 1]),\n",
              " array([0, 0, 0, 0, 0, 1, 0, 1, 0, 1, 0, 2, 0, 0, 1, 0, 0, 0, 0, 1, 0, 2,\n",
              "        0, 0, 0, 0, 2, 1, 0, 0, 0, 2, 2, 0, 1, 2, 0, 1, 1, 2, 0, 1, 0, 1,\n",
              "        1, 1, 1, 1, 2, 0, 1, 1, 0, 0, 1, 1, 1, 2, 0, 1, 1, 0, 1, 0]),\n",
              " array([0, 0, 0, 0, 0, 2, 1, 0, 0, 1, 1, 1, 1, 0, 1, 0, 1, 1, 1, 1, 0, 0,\n",
              "        0, 0, 1, 1, 0, 0, 2, 1, 2, 1, 1, 1, 0, 0, 0, 0, 2, 2, 0, 1, 1, 1,\n",
              "        2, 0, 1, 0, 2, 0, 0, 0, 1, 1, 1, 2, 2, 1, 0, 0, 1, 0, 1, 2]),\n",
              " array([0, 2, 1, 2, 0, 1, 2, 1, 1, 1, 1, 2, 0, 0, 1, 0, 1, 0, 2, 1, 1, 1,\n",
              "        1, 1, 0, 0, 2, 0, 2, 1, 0, 1, 0, 0, 1, 0, 0, 0, 0, 0, 2, 0, 2, 0,\n",
              "        0, 2, 0, 2, 1, 1, 1, 2, 0, 1, 0, 0, 1, 1, 0, 0, 1, 0, 1, 1]),\n",
              " array([1, 0, 1, 0, 0, 0, 2, 1, 0, 0, 1, 2, 0, 0, 0, 1, 0, 0, 1, 0, 0, 1,\n",
              "        1, 0, 0, 0, 1, 1, 0, 0, 2, 1, 0, 0, 0, 2, 1, 0, 2, 1, 0, 2, 1, 0,\n",
              "        2, 0, 1, 1, 2, 1, 0, 0, 1, 1, 2, 1, 2, 0, 0, 1, 1, 1, 0, 0]),\n",
              " array([1, 1, 0, 1, 0, 1, 0, 1, 1, 0, 1, 0, 0, 2, 1, 0, 0, 0, 0, 0, 2, 0,\n",
              "        0, 1, 0, 0, 1, 0, 0, 0, 2, 1, 1, 1, 2, 0, 0, 1, 1, 1, 0, 0, 2, 1,\n",
              "        0, 0, 0, 0, 0, 1, 1, 2, 2, 0, 0, 2, 2, 2, 0, 1, 0, 1, 0, 0]),\n",
              " array([2, 0, 1, 0, 2, 0, 0, 0, 1, 2, 1, 0, 0, 0, 0, 2, 0, 1, 0, 0, 0, 2,\n",
              "        2, 0, 0, 2, 0, 0, 2, 2, 0, 2, 0, 0, 2, 0, 1, 0, 0, 1, 0, 0, 2, 0,\n",
              "        0, 1, 0, 0, 0, 1, 0, 0, 2, 0, 1, 2, 0, 1, 1, 2, 1, 0, 1, 1]),\n",
              " array([1, 0, 1, 1, 1, 2, 1, 0, 0, 1, 1, 0, 0, 1, 2, 1, 0, 0, 2, 1, 0, 1,\n",
              "        0, 2, 1, 0, 1, 1, 1, 1, 2, 1, 1, 1, 1, 2, 0, 0, 0, 1, 2, 0, 0, 1,\n",
              "        0, 1, 1, 2, 0, 1, 0, 0, 1, 1, 1, 1, 0, 1, 0, 0, 0, 1, 1, 0]),\n",
              " array([0, 2, 1, 0, 0, 1, 1, 1, 0, 1, 0, 0, 1, 0, 1, 2, 1, 0, 0, 1, 0, 1,\n",
              "        1, 0, 1, 2, 1, 1, 0, 0, 1, 0, 2, 2, 1, 0, 1, 1, 0, 1, 0, 1, 0, 0,\n",
              "        0, 0, 0, 2, 2, 1, 0, 1, 0, 1, 2, 1, 2, 1, 1, 1, 0])]"
            ]
          },
          "metadata": {},
          "execution_count": 40
        }
      ]
    },
    {
      "cell_type": "code",
      "source": [
        "act=np.concatenate(actuals)"
      ],
      "metadata": {
        "id": "UObKVC51ANaQ"
      },
      "execution_count": null,
      "outputs": []
    },
    {
      "cell_type": "code",
      "source": [
        "print(act)"
      ],
      "metadata": {
        "colab": {
          "base_uri": "https://localhost:8080/"
        },
        "id": "IB48_9dzANUV",
        "outputId": "4225a109-960c-42e1-dbe6-9011799a7145"
      },
      "execution_count": null,
      "outputs": [
        {
          "output_type": "stream",
          "name": "stdout",
          "text": [
            "[1 1 1 ... 1 1 0]\n"
          ]
        }
      ]
    },
    {
      "cell_type": "code",
      "source": [
        "pred_arr = predicted.cpu().detach().numpy()"
      ],
      "metadata": {
        "id": "Hwl4CrnaNmn-"
      },
      "execution_count": null,
      "outputs": []
    },
    {
      "cell_type": "code",
      "source": [
        "actual_arr = labels.cpu().detach().numpy()"
      ],
      "metadata": {
        "id": "kdve3ROlOHZq"
      },
      "execution_count": null,
      "outputs": []
    },
    {
      "cell_type": "code",
      "source": [
        "import pandas as pd"
      ],
      "metadata": {
        "id": "yere6wm9PGIL"
      },
      "execution_count": null,
      "outputs": []
    },
    {
      "cell_type": "code",
      "source": [
        "pd.crosstab(pred,act,rownames=['Predicted'], colnames=['Actual'])"
      ],
      "metadata": {
        "colab": {
          "base_uri": "https://localhost:8080/",
          "height": 175
        },
        "id": "EZCkSaYYOshr",
        "outputId": "8c81f198-9ed4-4906-ba65-4f475ee65ffb"
      },
      "execution_count": null,
      "outputs": [
        {
          "output_type": "execute_result",
          "data": {
            "text/plain": [
              "Actual       0    1    2\n",
              "Predicted               \n",
              "0          666    2    1\n",
              "1            2  602    3\n",
              "2            1    1  255"
            ],
            "text/html": [
              "\n",
              "  <div id=\"df-79b89de4-0812-49c3-93df-f6d0f9decda5\">\n",
              "    <div class=\"colab-df-container\">\n",
              "      <div>\n",
              "<style scoped>\n",
              "    .dataframe tbody tr th:only-of-type {\n",
              "        vertical-align: middle;\n",
              "    }\n",
              "\n",
              "    .dataframe tbody tr th {\n",
              "        vertical-align: top;\n",
              "    }\n",
              "\n",
              "    .dataframe thead th {\n",
              "        text-align: right;\n",
              "    }\n",
              "</style>\n",
              "<table border=\"1\" class=\"dataframe\">\n",
              "  <thead>\n",
              "    <tr style=\"text-align: right;\">\n",
              "      <th>Actual</th>\n",
              "      <th>0</th>\n",
              "      <th>1</th>\n",
              "      <th>2</th>\n",
              "    </tr>\n",
              "    <tr>\n",
              "      <th>Predicted</th>\n",
              "      <th></th>\n",
              "      <th></th>\n",
              "      <th></th>\n",
              "    </tr>\n",
              "  </thead>\n",
              "  <tbody>\n",
              "    <tr>\n",
              "      <th>0</th>\n",
              "      <td>666</td>\n",
              "      <td>2</td>\n",
              "      <td>1</td>\n",
              "    </tr>\n",
              "    <tr>\n",
              "      <th>1</th>\n",
              "      <td>2</td>\n",
              "      <td>602</td>\n",
              "      <td>3</td>\n",
              "    </tr>\n",
              "    <tr>\n",
              "      <th>2</th>\n",
              "      <td>1</td>\n",
              "      <td>1</td>\n",
              "      <td>255</td>\n",
              "    </tr>\n",
              "  </tbody>\n",
              "</table>\n",
              "</div>\n",
              "      <button class=\"colab-df-convert\" onclick=\"convertToInteractive('df-79b89de4-0812-49c3-93df-f6d0f9decda5')\"\n",
              "              title=\"Convert this dataframe to an interactive table.\"\n",
              "              style=\"display:none;\">\n",
              "        \n",
              "  <svg xmlns=\"http://www.w3.org/2000/svg\" height=\"24px\"viewBox=\"0 0 24 24\"\n",
              "       width=\"24px\">\n",
              "    <path d=\"M0 0h24v24H0V0z\" fill=\"none\"/>\n",
              "    <path d=\"M18.56 5.44l.94 2.06.94-2.06 2.06-.94-2.06-.94-.94-2.06-.94 2.06-2.06.94zm-11 1L8.5 8.5l.94-2.06 2.06-.94-2.06-.94L8.5 2.5l-.94 2.06-2.06.94zm10 10l.94 2.06.94-2.06 2.06-.94-2.06-.94-.94-2.06-.94 2.06-2.06.94z\"/><path d=\"M17.41 7.96l-1.37-1.37c-.4-.4-.92-.59-1.43-.59-.52 0-1.04.2-1.43.59L10.3 9.45l-7.72 7.72c-.78.78-.78 2.05 0 2.83L4 21.41c.39.39.9.59 1.41.59.51 0 1.02-.2 1.41-.59l7.78-7.78 2.81-2.81c.8-.78.8-2.07 0-2.86zM5.41 20L4 18.59l7.72-7.72 1.47 1.35L5.41 20z\"/>\n",
              "  </svg>\n",
              "      </button>\n",
              "      \n",
              "  <style>\n",
              "    .colab-df-container {\n",
              "      display:flex;\n",
              "      flex-wrap:wrap;\n",
              "      gap: 12px;\n",
              "    }\n",
              "\n",
              "    .colab-df-convert {\n",
              "      background-color: #E8F0FE;\n",
              "      border: none;\n",
              "      border-radius: 50%;\n",
              "      cursor: pointer;\n",
              "      display: none;\n",
              "      fill: #1967D2;\n",
              "      height: 32px;\n",
              "      padding: 0 0 0 0;\n",
              "      width: 32px;\n",
              "    }\n",
              "\n",
              "    .colab-df-convert:hover {\n",
              "      background-color: #E2EBFA;\n",
              "      box-shadow: 0px 1px 2px rgba(60, 64, 67, 0.3), 0px 1px 3px 1px rgba(60, 64, 67, 0.15);\n",
              "      fill: #174EA6;\n",
              "    }\n",
              "\n",
              "    [theme=dark] .colab-df-convert {\n",
              "      background-color: #3B4455;\n",
              "      fill: #D2E3FC;\n",
              "    }\n",
              "\n",
              "    [theme=dark] .colab-df-convert:hover {\n",
              "      background-color: #434B5C;\n",
              "      box-shadow: 0px 1px 3px 1px rgba(0, 0, 0, 0.15);\n",
              "      filter: drop-shadow(0px 1px 2px rgba(0, 0, 0, 0.3));\n",
              "      fill: #FFFFFF;\n",
              "    }\n",
              "  </style>\n",
              "\n",
              "      <script>\n",
              "        const buttonEl =\n",
              "          document.querySelector('#df-79b89de4-0812-49c3-93df-f6d0f9decda5 button.colab-df-convert');\n",
              "        buttonEl.style.display =\n",
              "          google.colab.kernel.accessAllowed ? 'block' : 'none';\n",
              "\n",
              "        async function convertToInteractive(key) {\n",
              "          const element = document.querySelector('#df-79b89de4-0812-49c3-93df-f6d0f9decda5');\n",
              "          const dataTable =\n",
              "            await google.colab.kernel.invokeFunction('convertToInteractive',\n",
              "                                                     [key], {});\n",
              "          if (!dataTable) return;\n",
              "\n",
              "          const docLinkHtml = 'Like what you see? Visit the ' +\n",
              "            '<a target=\"_blank\" href=https://colab.research.google.com/notebooks/data_table.ipynb>data table notebook</a>'\n",
              "            + ' to learn more about interactive tables.';\n",
              "          element.innerHTML = '';\n",
              "          dataTable['output_type'] = 'display_data';\n",
              "          await google.colab.output.renderOutput(dataTable, element);\n",
              "          const docLink = document.createElement('div');\n",
              "          docLink.innerHTML = docLinkHtml;\n",
              "          element.appendChild(docLink);\n",
              "        }\n",
              "      </script>\n",
              "    </div>\n",
              "  </div>\n",
              "  "
            ]
          },
          "metadata": {},
          "execution_count": 44
        }
      ]
    },
    {
      "cell_type": "code",
      "source": [
        "data.classes"
      ],
      "metadata": {
        "id": "QD14Ky-RPFCI",
        "colab": {
          "base_uri": "https://localhost:8080/",
          "height": 167
        },
        "outputId": "37f7cf05-6f04-429d-9e96-159ef6ed6c1d"
      },
      "execution_count": null,
      "outputs": [
        {
          "output_type": "error",
          "ename": "AttributeError",
          "evalue": "ignored",
          "traceback": [
            "\u001b[0;31m---------------------------------------------------------------------------\u001b[0m",
            "\u001b[0;31mAttributeError\u001b[0m                            Traceback (most recent call last)",
            "\u001b[0;32m<ipython-input-45-cdb2305a276c>\u001b[0m in \u001b[0;36m<module>\u001b[0;34m\u001b[0m\n\u001b[0;32m----> 1\u001b[0;31m \u001b[0mdata\u001b[0m\u001b[0;34m.\u001b[0m\u001b[0mclasses\u001b[0m\u001b[0;34m\u001b[0m\u001b[0;34m\u001b[0m\u001b[0m\n\u001b[0m",
            "\u001b[0;31mAttributeError\u001b[0m: 'list' object has no attribute 'classes'"
          ]
        }
      ]
    },
    {
      "cell_type": "code",
      "source": [
        "data.class_to_idx"
      ],
      "metadata": {
        "id": "IYDWHEhPAx1X"
      },
      "execution_count": null,
      "outputs": []
    }
  ]
}