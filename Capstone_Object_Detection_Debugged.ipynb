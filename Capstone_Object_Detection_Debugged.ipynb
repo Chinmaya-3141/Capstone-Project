{
  "nbformat": 4,
  "nbformat_minor": 0,
  "metadata": {
    "colab": {
      "provenance": [],
      "authorship_tag": "ABX9TyPPSeSqUYypNXt/2RCTLwgo",
      "include_colab_link": true
    },
    "kernelspec": {
      "name": "python3",
      "display_name": "Python 3"
    },
    "language_info": {
      "name": "python"
    },
    "gpuClass": "standard"
  },
  "cells": [
    {
      "cell_type": "markdown",
      "metadata": {
        "id": "view-in-github",
        "colab_type": "text"
      },
      "source": [
        "<a href=\"https://colab.research.google.com/github/Chinmaya-3141/Capstone-Project/blob/main/Capstone_Object_Detection_Debugged.ipynb\" target=\"_parent\"><img src=\"https://colab.research.google.com/assets/colab-badge.svg\" alt=\"Open In Colab\"/></a>"
      ]
    },
    {
      "cell_type": "markdown",
      "source": [
        "# **Object Detection using Pytorch Faster RCNN Resnet-50-FPN model**"
      ],
      "metadata": {
        "id": "joW-u3RluhaZ"
      }
    },
    {
      "cell_type": "markdown",
      "source": [
        "## Install, import necessary packages, global variables"
      ],
      "metadata": {
        "id": "UihuC5T5unqI"
      }
    },
    {
      "cell_type": "code",
      "source": [
        "%%time\n",
        "!pip install torchinfo -qq"
      ],
      "metadata": {
        "id": "-8G5xw3wsaDC",
        "colab": {
          "base_uri": "https://localhost:8080/"
        },
        "outputId": "df6583b5-c5d1-4f63-e3ef-2365322292e8"
      },
      "execution_count": null,
      "outputs": [
        {
          "output_type": "stream",
          "name": "stdout",
          "text": [
            "CPU times: user 26.1 ms, sys: 5.63 ms, total: 31.8 ms\n",
            "Wall time: 4.02 s\n"
          ]
        }
      ]
    },
    {
      "cell_type": "code",
      "source": [
        "%%time\n",
        "!pip install -U 'git+https://github.com/cocodataset/cocoapi.git#subdirectory=PythonAPI' -qq"
      ],
      "metadata": {
        "colab": {
          "base_uri": "https://localhost:8080/"
        },
        "id": "rqOsio0E-8TC",
        "outputId": "2510212a-3733-46eb-f839-3a52056e4897"
      },
      "execution_count": null,
      "outputs": [
        {
          "output_type": "stream",
          "name": "stdout",
          "text": [
            "  Preparing metadata (setup.py) ... \u001b[?25l\u001b[?25hdone\n",
            "CPU times: user 31.7 ms, sys: 11.4 ms, total: 43.1 ms\n",
            "Wall time: 4.73 s\n"
          ]
        }
      ]
    },
    {
      "cell_type": "code",
      "source": [
        "%%time\n",
        "!git clone https://github.com/pytorch/vision.git\n",
        "!cd vision;cp references/detection/utils.py ../;cp references/detection/transforms.py ../;cp references/detection/coco_eval.py ../;cp references/detection/engine.py ../;cp references/detection/coco_utils.py ../"
      ],
      "metadata": {
        "id": "TAW0fQ6I-_1U",
        "colab": {
          "base_uri": "https://localhost:8080/"
        },
        "outputId": "3e88fef2-a2ac-4456-e824-4eb4d704841b"
      },
      "execution_count": null,
      "outputs": [
        {
          "output_type": "stream",
          "name": "stdout",
          "text": [
            "Cloning into 'vision'...\n",
            "remote: Enumerating objects: 322034, done.\u001b[K\n",
            "remote: Counting objects: 100% (20/20), done.\u001b[K\n",
            "remote: Compressing objects: 100% (19/19), done.\u001b[K\n",
            "remote: Total 322034 (delta 4), reused 8 (delta 1), pack-reused 322014\u001b[K\n",
            "Receiving objects: 100% (322034/322034), 653.59 MiB | 34.29 MiB/s, done.\n",
            "Resolving deltas: 100% (296026/296026), done.\n",
            "CPU times: user 437 ms, sys: 80.2 ms, total: 517 ms\n",
            "Wall time: 57.5 s\n"
          ]
        }
      ]
    },
    {
      "cell_type": "code",
      "source": [
        "# Mount Drive to import Data\n",
        "\n",
        "from google.colab import drive\n",
        "drive.mount('/content/drive')"
      ],
      "metadata": {
        "id": "wjs2YUMEsG-V",
        "colab": {
          "base_uri": "https://localhost:8080/"
        },
        "outputId": "94f0bc00-d786-4a94-a038-7d0e280958e1"
      },
      "execution_count": null,
      "outputs": [
        {
          "output_type": "stream",
          "name": "stdout",
          "text": [
            "Mounted at /content/drive\n"
          ]
        }
      ]
    },
    {
      "cell_type": "code",
      "execution_count": null,
      "metadata": {
        "id": "_AQOkllsrout"
      },
      "outputs": [],
      "source": [
        "import pandas as pd\n",
        "import numpy as np\n",
        "import matplotlib.pyplot as plt\n",
        "from sklearn.model_selection import train_test_split\n",
        "from sklearn import preprocessing "
      ]
    },
    {
      "cell_type": "code",
      "source": [
        "import os\n",
        "import random\n",
        "import math\n",
        "import sys\n",
        "import time\n",
        "import tqdm\n",
        "from tqdm import trange\n",
        "import shutil\n",
        "from skimage import io\n",
        "import cv2\n",
        "from albumentations.pytorch import ToTensorV2\n",
        "from albumentations import (HorizontalFlip, ShiftScaleRotate, VerticalFlip,\n",
        "                            Normalize,Flip, Compose, GaussNoise)\n",
        "# import albumentations as A"
      ],
      "metadata": {
        "id": "DIyTfViuuSmw"
      },
      "execution_count": null,
      "outputs": []
    },
    {
      "cell_type": "code",
      "source": [
        "import torch\n",
        "import torch.nn as nn\n",
        "import torchvision\n",
        "from torchvision.models.detection.faster_rcnn import FastRCNNPredictor\n",
        "from torchvision.models.detection import fasterrcnn_resnet50_fpn as fasterrcnn\n",
        "from torch.utils.data import DataLoader, Dataset\n",
        "from torchvision import utils\n",
        "from torchvision import transforms\n",
        "from torchinfo import summary as tisum\n",
        "from torch.optim import AdamW, RMSprop\n",
        "from torch.optim.lr_scheduler import ReduceLROnPlateau, CosineAnnealingLR\n",
        "\n",
        "# from engine import train_one_epoch, evaluate\n",
        "# from torchvision.models.detection import retinanet_resnet50_fpn as retinanet\n",
        "# from torchvision.models.detection import FasterRCNN\n",
        "# from torchvision.models.detection.rpn import AnchorGenerator\n",
        "# from torch.utils.data.sampler import SequentialSampler\n",
        "# from torchvision.models.detection.transform import GeneralizedRCNNTransform as g_trans"
      ],
      "metadata": {
        "id": "Mcq4sG4YuSho"
      },
      "execution_count": null,
      "outputs": []
    },
    {
      "cell_type": "code",
      "source": [
        "from engine import train_one_epoch, evaluate\n",
        "import utils"
      ],
      "metadata": {
        "id": "nLhBMHjN_PUY"
      },
      "execution_count": null,
      "outputs": []
    },
    {
      "cell_type": "code",
      "source": [
        "# To improve reproducibility\n",
        "\n",
        "def seed_everything(seed=42):\n",
        "  random.seed(seed)\n",
        "  os.environ['PYTHONHASHSEED'] = str(seed)\n",
        "  np.random.seed(seed)\n",
        "  torch.manual_seed(seed)\n",
        "  torch.backends.cudnn.deterministic = True\n",
        "  torch.backends.cudnn.benchmark = False"
      ],
      "metadata": {
        "id": "_iSwJSDRoPij"
      },
      "execution_count": null,
      "outputs": []
    },
    {
      "cell_type": "code",
      "source": [
        "seed_everything(42)"
      ],
      "metadata": {
        "id": "Pwn8H8ZaoRMw"
      },
      "execution_count": null,
      "outputs": []
    },
    {
      "cell_type": "code",
      "source": [
        "print(torch.__version__)\n",
        "print(torchvision.__version__)"
      ],
      "metadata": {
        "id": "V1ToWsWpsXdm",
        "colab": {
          "base_uri": "https://localhost:8080/"
        },
        "outputId": "76d67c20-93c6-4ad2-fe9d-3ac2091a12a3"
      },
      "execution_count": null,
      "outputs": [
        {
          "output_type": "stream",
          "name": "stdout",
          "text": [
            "2.0.0+cu118\n",
            "0.15.1+cu118\n"
          ]
        }
      ]
    },
    {
      "cell_type": "code",
      "source": [
        "batchsize = 8\n",
        "channels = 3\n",
        "dimension = 640\n",
        "learning_rate = 0.005\n",
        "weight_decay = 10e-3"
      ],
      "metadata": {
        "id": "Ulpiq8iMNjUB"
      },
      "execution_count": null,
      "outputs": []
    },
    {
      "cell_type": "markdown",
      "source": [
        "## Import, Explore Data"
      ],
      "metadata": {
        "id": "_b1E9OlrGd_H"
      }
    },
    {
      "cell_type": "code",
      "source": [
        "csv_path = '/content/drive/MyDrive/Capstone Data (Shared)/Capstone Data/For Object Detection/Object_detection_640_corrected.csv'\n",
        "train_dir = '/content/drive/MyDrive/Capstone Data (Shared)/Capstone Data/For Object Detection/Combined_640_images of Covid and Pneumonia _for FasterRCNN'"
      ],
      "metadata": {
        "id": "smow4n9YwbmO"
      },
      "execution_count": null,
      "outputs": []
    },
    {
      "cell_type": "code",
      "source": [
        "df = pd.read_csv(csv_path)\n",
        "df.head(16)"
      ],
      "metadata": {
        "id": "BJgYDhUgwgg1",
        "colab": {
          "base_uri": "https://localhost:8080/",
          "height": 551
        },
        "outputId": "6e72bd0a-f144-4728-fcf8-dc5a910ac28c"
      },
      "execution_count": null,
      "outputs": [
        {
          "output_type": "execute_result",
          "data": {
            "text/plain": [
              "         filename  width  height                  bbox  label  xmin  ymin  \\\n",
              "0   COVID-100.png    640     640  [204, 192, 478, 530]  covid   204   192   \n",
              "1   COVID-101.png    640     640  [196, 140, 484, 444]  covid   196   140   \n",
              "2   COVID-103.png    640     640  [166, 140, 462, 482]  covid   166   140   \n",
              "3   COVID-104.png    640     640  [192, 158, 490, 508]  covid   192   158   \n",
              "4   COVID-105.png    640     640  [152, 122, 432, 516]  covid   152   122   \n",
              "5   COVID-106.png    640     640  [182, 134, 436, 496]  covid   182   134   \n",
              "6   COVID-107.png    640     640  [198, 138, 470, 464]  covid   198   138   \n",
              "7   COVID-108.png    640     640  [234, 232, 474, 514]  covid   234   232   \n",
              "8   COVID-109.png    640     640  [200, 162, 458, 514]  covid   200   162   \n",
              "9    COVID-10.png    640     640  [190, 180, 492, 504]  covid   190   180   \n",
              "10  COVID-110.png    640     640  [162, 230, 410, 590]  covid   162   230   \n",
              "11  COVID-111.png    640     640  [186, 128, 442, 518]  covid   186   128   \n",
              "12  COVID-112.png    640     640  [160, 192, 486, 504]  covid   160   192   \n",
              "13  COVID-113.png    640     640  [242, 180, 426, 402]  covid   242   180   \n",
              "14  COVID-113.png    640     640  [428, 356, 470, 406]  covid   428   356   \n",
              "15  COVID-114.png    640     640  [214, 174, 412, 432]  covid   214   174   \n",
              "\n",
              "    xmax  ymax  box_w  box_h  \n",
              "0    478   530    274    338  \n",
              "1    484   444    288    304  \n",
              "2    462   482    296    342  \n",
              "3    490   508    298    350  \n",
              "4    432   516    280    394  \n",
              "5    436   496    254    362  \n",
              "6    470   464    272    326  \n",
              "7    474   514    240    282  \n",
              "8    458   514    258    352  \n",
              "9    492   504    302    324  \n",
              "10   410   590    248    360  \n",
              "11   442   518    256    390  \n",
              "12   486   504    326    312  \n",
              "13   426   402    184    222  \n",
              "14   470   406     42     50  \n",
              "15   412   432    198    258  "
            ],
            "text/html": [
              "\n",
              "  <div id=\"df-f5633fba-b5ae-4a98-b86d-96935139c593\">\n",
              "    <div class=\"colab-df-container\">\n",
              "      <div>\n",
              "<style scoped>\n",
              "    .dataframe tbody tr th:only-of-type {\n",
              "        vertical-align: middle;\n",
              "    }\n",
              "\n",
              "    .dataframe tbody tr th {\n",
              "        vertical-align: top;\n",
              "    }\n",
              "\n",
              "    .dataframe thead th {\n",
              "        text-align: right;\n",
              "    }\n",
              "</style>\n",
              "<table border=\"1\" class=\"dataframe\">\n",
              "  <thead>\n",
              "    <tr style=\"text-align: right;\">\n",
              "      <th></th>\n",
              "      <th>filename</th>\n",
              "      <th>width</th>\n",
              "      <th>height</th>\n",
              "      <th>bbox</th>\n",
              "      <th>label</th>\n",
              "      <th>xmin</th>\n",
              "      <th>ymin</th>\n",
              "      <th>xmax</th>\n",
              "      <th>ymax</th>\n",
              "      <th>box_w</th>\n",
              "      <th>box_h</th>\n",
              "    </tr>\n",
              "  </thead>\n",
              "  <tbody>\n",
              "    <tr>\n",
              "      <th>0</th>\n",
              "      <td>COVID-100.png</td>\n",
              "      <td>640</td>\n",
              "      <td>640</td>\n",
              "      <td>[204, 192, 478, 530]</td>\n",
              "      <td>covid</td>\n",
              "      <td>204</td>\n",
              "      <td>192</td>\n",
              "      <td>478</td>\n",
              "      <td>530</td>\n",
              "      <td>274</td>\n",
              "      <td>338</td>\n",
              "    </tr>\n",
              "    <tr>\n",
              "      <th>1</th>\n",
              "      <td>COVID-101.png</td>\n",
              "      <td>640</td>\n",
              "      <td>640</td>\n",
              "      <td>[196, 140, 484, 444]</td>\n",
              "      <td>covid</td>\n",
              "      <td>196</td>\n",
              "      <td>140</td>\n",
              "      <td>484</td>\n",
              "      <td>444</td>\n",
              "      <td>288</td>\n",
              "      <td>304</td>\n",
              "    </tr>\n",
              "    <tr>\n",
              "      <th>2</th>\n",
              "      <td>COVID-103.png</td>\n",
              "      <td>640</td>\n",
              "      <td>640</td>\n",
              "      <td>[166, 140, 462, 482]</td>\n",
              "      <td>covid</td>\n",
              "      <td>166</td>\n",
              "      <td>140</td>\n",
              "      <td>462</td>\n",
              "      <td>482</td>\n",
              "      <td>296</td>\n",
              "      <td>342</td>\n",
              "    </tr>\n",
              "    <tr>\n",
              "      <th>3</th>\n",
              "      <td>COVID-104.png</td>\n",
              "      <td>640</td>\n",
              "      <td>640</td>\n",
              "      <td>[192, 158, 490, 508]</td>\n",
              "      <td>covid</td>\n",
              "      <td>192</td>\n",
              "      <td>158</td>\n",
              "      <td>490</td>\n",
              "      <td>508</td>\n",
              "      <td>298</td>\n",
              "      <td>350</td>\n",
              "    </tr>\n",
              "    <tr>\n",
              "      <th>4</th>\n",
              "      <td>COVID-105.png</td>\n",
              "      <td>640</td>\n",
              "      <td>640</td>\n",
              "      <td>[152, 122, 432, 516]</td>\n",
              "      <td>covid</td>\n",
              "      <td>152</td>\n",
              "      <td>122</td>\n",
              "      <td>432</td>\n",
              "      <td>516</td>\n",
              "      <td>280</td>\n",
              "      <td>394</td>\n",
              "    </tr>\n",
              "    <tr>\n",
              "      <th>5</th>\n",
              "      <td>COVID-106.png</td>\n",
              "      <td>640</td>\n",
              "      <td>640</td>\n",
              "      <td>[182, 134, 436, 496]</td>\n",
              "      <td>covid</td>\n",
              "      <td>182</td>\n",
              "      <td>134</td>\n",
              "      <td>436</td>\n",
              "      <td>496</td>\n",
              "      <td>254</td>\n",
              "      <td>362</td>\n",
              "    </tr>\n",
              "    <tr>\n",
              "      <th>6</th>\n",
              "      <td>COVID-107.png</td>\n",
              "      <td>640</td>\n",
              "      <td>640</td>\n",
              "      <td>[198, 138, 470, 464]</td>\n",
              "      <td>covid</td>\n",
              "      <td>198</td>\n",
              "      <td>138</td>\n",
              "      <td>470</td>\n",
              "      <td>464</td>\n",
              "      <td>272</td>\n",
              "      <td>326</td>\n",
              "    </tr>\n",
              "    <tr>\n",
              "      <th>7</th>\n",
              "      <td>COVID-108.png</td>\n",
              "      <td>640</td>\n",
              "      <td>640</td>\n",
              "      <td>[234, 232, 474, 514]</td>\n",
              "      <td>covid</td>\n",
              "      <td>234</td>\n",
              "      <td>232</td>\n",
              "      <td>474</td>\n",
              "      <td>514</td>\n",
              "      <td>240</td>\n",
              "      <td>282</td>\n",
              "    </tr>\n",
              "    <tr>\n",
              "      <th>8</th>\n",
              "      <td>COVID-109.png</td>\n",
              "      <td>640</td>\n",
              "      <td>640</td>\n",
              "      <td>[200, 162, 458, 514]</td>\n",
              "      <td>covid</td>\n",
              "      <td>200</td>\n",
              "      <td>162</td>\n",
              "      <td>458</td>\n",
              "      <td>514</td>\n",
              "      <td>258</td>\n",
              "      <td>352</td>\n",
              "    </tr>\n",
              "    <tr>\n",
              "      <th>9</th>\n",
              "      <td>COVID-10.png</td>\n",
              "      <td>640</td>\n",
              "      <td>640</td>\n",
              "      <td>[190, 180, 492, 504]</td>\n",
              "      <td>covid</td>\n",
              "      <td>190</td>\n",
              "      <td>180</td>\n",
              "      <td>492</td>\n",
              "      <td>504</td>\n",
              "      <td>302</td>\n",
              "      <td>324</td>\n",
              "    </tr>\n",
              "    <tr>\n",
              "      <th>10</th>\n",
              "      <td>COVID-110.png</td>\n",
              "      <td>640</td>\n",
              "      <td>640</td>\n",
              "      <td>[162, 230, 410, 590]</td>\n",
              "      <td>covid</td>\n",
              "      <td>162</td>\n",
              "      <td>230</td>\n",
              "      <td>410</td>\n",
              "      <td>590</td>\n",
              "      <td>248</td>\n",
              "      <td>360</td>\n",
              "    </tr>\n",
              "    <tr>\n",
              "      <th>11</th>\n",
              "      <td>COVID-111.png</td>\n",
              "      <td>640</td>\n",
              "      <td>640</td>\n",
              "      <td>[186, 128, 442, 518]</td>\n",
              "      <td>covid</td>\n",
              "      <td>186</td>\n",
              "      <td>128</td>\n",
              "      <td>442</td>\n",
              "      <td>518</td>\n",
              "      <td>256</td>\n",
              "      <td>390</td>\n",
              "    </tr>\n",
              "    <tr>\n",
              "      <th>12</th>\n",
              "      <td>COVID-112.png</td>\n",
              "      <td>640</td>\n",
              "      <td>640</td>\n",
              "      <td>[160, 192, 486, 504]</td>\n",
              "      <td>covid</td>\n",
              "      <td>160</td>\n",
              "      <td>192</td>\n",
              "      <td>486</td>\n",
              "      <td>504</td>\n",
              "      <td>326</td>\n",
              "      <td>312</td>\n",
              "    </tr>\n",
              "    <tr>\n",
              "      <th>13</th>\n",
              "      <td>COVID-113.png</td>\n",
              "      <td>640</td>\n",
              "      <td>640</td>\n",
              "      <td>[242, 180, 426, 402]</td>\n",
              "      <td>covid</td>\n",
              "      <td>242</td>\n",
              "      <td>180</td>\n",
              "      <td>426</td>\n",
              "      <td>402</td>\n",
              "      <td>184</td>\n",
              "      <td>222</td>\n",
              "    </tr>\n",
              "    <tr>\n",
              "      <th>14</th>\n",
              "      <td>COVID-113.png</td>\n",
              "      <td>640</td>\n",
              "      <td>640</td>\n",
              "      <td>[428, 356, 470, 406]</td>\n",
              "      <td>covid</td>\n",
              "      <td>428</td>\n",
              "      <td>356</td>\n",
              "      <td>470</td>\n",
              "      <td>406</td>\n",
              "      <td>42</td>\n",
              "      <td>50</td>\n",
              "    </tr>\n",
              "    <tr>\n",
              "      <th>15</th>\n",
              "      <td>COVID-114.png</td>\n",
              "      <td>640</td>\n",
              "      <td>640</td>\n",
              "      <td>[214, 174, 412, 432]</td>\n",
              "      <td>covid</td>\n",
              "      <td>214</td>\n",
              "      <td>174</td>\n",
              "      <td>412</td>\n",
              "      <td>432</td>\n",
              "      <td>198</td>\n",
              "      <td>258</td>\n",
              "    </tr>\n",
              "  </tbody>\n",
              "</table>\n",
              "</div>\n",
              "      <button class=\"colab-df-convert\" onclick=\"convertToInteractive('df-f5633fba-b5ae-4a98-b86d-96935139c593')\"\n",
              "              title=\"Convert this dataframe to an interactive table.\"\n",
              "              style=\"display:none;\">\n",
              "        \n",
              "  <svg xmlns=\"http://www.w3.org/2000/svg\" height=\"24px\"viewBox=\"0 0 24 24\"\n",
              "       width=\"24px\">\n",
              "    <path d=\"M0 0h24v24H0V0z\" fill=\"none\"/>\n",
              "    <path d=\"M18.56 5.44l.94 2.06.94-2.06 2.06-.94-2.06-.94-.94-2.06-.94 2.06-2.06.94zm-11 1L8.5 8.5l.94-2.06 2.06-.94-2.06-.94L8.5 2.5l-.94 2.06-2.06.94zm10 10l.94 2.06.94-2.06 2.06-.94-2.06-.94-.94-2.06-.94 2.06-2.06.94z\"/><path d=\"M17.41 7.96l-1.37-1.37c-.4-.4-.92-.59-1.43-.59-.52 0-1.04.2-1.43.59L10.3 9.45l-7.72 7.72c-.78.78-.78 2.05 0 2.83L4 21.41c.39.39.9.59 1.41.59.51 0 1.02-.2 1.41-.59l7.78-7.78 2.81-2.81c.8-.78.8-2.07 0-2.86zM5.41 20L4 18.59l7.72-7.72 1.47 1.35L5.41 20z\"/>\n",
              "  </svg>\n",
              "      </button>\n",
              "      \n",
              "  <style>\n",
              "    .colab-df-container {\n",
              "      display:flex;\n",
              "      flex-wrap:wrap;\n",
              "      gap: 12px;\n",
              "    }\n",
              "\n",
              "    .colab-df-convert {\n",
              "      background-color: #E8F0FE;\n",
              "      border: none;\n",
              "      border-radius: 50%;\n",
              "      cursor: pointer;\n",
              "      display: none;\n",
              "      fill: #1967D2;\n",
              "      height: 32px;\n",
              "      padding: 0 0 0 0;\n",
              "      width: 32px;\n",
              "    }\n",
              "\n",
              "    .colab-df-convert:hover {\n",
              "      background-color: #E2EBFA;\n",
              "      box-shadow: 0px 1px 2px rgba(60, 64, 67, 0.3), 0px 1px 3px 1px rgba(60, 64, 67, 0.15);\n",
              "      fill: #174EA6;\n",
              "    }\n",
              "\n",
              "    [theme=dark] .colab-df-convert {\n",
              "      background-color: #3B4455;\n",
              "      fill: #D2E3FC;\n",
              "    }\n",
              "\n",
              "    [theme=dark] .colab-df-convert:hover {\n",
              "      background-color: #434B5C;\n",
              "      box-shadow: 0px 1px 3px 1px rgba(0, 0, 0, 0.15);\n",
              "      filter: drop-shadow(0px 1px 2px rgba(0, 0, 0, 0.3));\n",
              "      fill: #FFFFFF;\n",
              "    }\n",
              "  </style>\n",
              "\n",
              "      <script>\n",
              "        const buttonEl =\n",
              "          document.querySelector('#df-f5633fba-b5ae-4a98-b86d-96935139c593 button.colab-df-convert');\n",
              "        buttonEl.style.display =\n",
              "          google.colab.kernel.accessAllowed ? 'block' : 'none';\n",
              "\n",
              "        async function convertToInteractive(key) {\n",
              "          const element = document.querySelector('#df-f5633fba-b5ae-4a98-b86d-96935139c593');\n",
              "          const dataTable =\n",
              "            await google.colab.kernel.invokeFunction('convertToInteractive',\n",
              "                                                     [key], {});\n",
              "          if (!dataTable) return;\n",
              "\n",
              "          const docLinkHtml = 'Like what you see? Visit the ' +\n",
              "            '<a target=\"_blank\" href=https://colab.research.google.com/notebooks/data_table.ipynb>data table notebook</a>'\n",
              "            + ' to learn more about interactive tables.';\n",
              "          element.innerHTML = '';\n",
              "          dataTable['output_type'] = 'display_data';\n",
              "          await google.colab.output.renderOutput(dataTable, element);\n",
              "          const docLink = document.createElement('div');\n",
              "          docLink.innerHTML = docLinkHtml;\n",
              "          element.appendChild(docLink);\n",
              "        }\n",
              "      </script>\n",
              "    </div>\n",
              "  </div>\n",
              "  "
            ]
          },
          "metadata": {},
          "execution_count": 17
        }
      ]
    },
    {
      "cell_type": "code",
      "source": [
        "# Checking the data\n",
        "\n",
        "print(f'Total number of train images is {len(os.listdir(train_dir))}')\n",
        "print(f'shape of dataframe is {df.shape}')\n",
        "print(f'Number of images in dataframe is {len(np.unique(df[\"filename\"]))}')\n",
        "print(f'Number of train images with no bounding boxes {len(os.listdir(train_dir)) - len(np.unique(df[\"filename\"]))}')"
      ],
      "metadata": {
        "id": "1vpEC9JcyeIw",
        "colab": {
          "base_uri": "https://localhost:8080/"
        },
        "outputId": "9e2ebdc4-fe6e-4eed-f056-be49d2ea8ad9"
      },
      "execution_count": null,
      "outputs": [
        {
          "output_type": "stream",
          "name": "stdout",
          "text": [
            "Total number of train images is 925\n",
            "shape of dataframe is (2601, 12)\n",
            "Number of images in dataframe is 925\n",
            "Number of train images with no bounding boxes 0\n"
          ]
        }
      ]
    },
    {
      "cell_type": "code",
      "source": [
        "# If images without bounding boxes exist, list them\n",
        "\n",
        "for var in os.listdir(train_dir):\n",
        "  if var not in np.unique(df[\"filename\"]):\n",
        "    print(var)"
      ],
      "metadata": {
        "id": "s1d27tsWzChn"
      },
      "execution_count": null,
      "outputs": []
    },
    {
      "cell_type": "code",
      "source": [
        "df['label'].unique()"
      ],
      "metadata": {
        "id": "cr9b1nOMLrKR",
        "colab": {
          "base_uri": "https://localhost:8080/"
        },
        "outputId": "e0559ac2-aef0-4863-ef92-4a7679ed9153"
      },
      "execution_count": null,
      "outputs": [
        {
          "output_type": "execute_result",
          "data": {
            "text/plain": [
              "array(['covid', 'pneumonia'], dtype=object)"
            ]
          },
          "metadata": {},
          "execution_count": 73
        }
      ]
    },
    {
      "cell_type": "code",
      "source": [
        "# Label encoding classes\n",
        "\n",
        "enc = preprocessing.LabelEncoder()\n",
        "df['enc_labels'] = enc.fit_transform(df['label'])   # label encode classes 0-1\n",
        "df['enc_labels'] = np.stack(df['enc_labels'][i]+1 for i in range(len(df['enc_labels'])))    # label encode classes 1-2"
      ],
      "metadata": {
        "id": "ujFLJDCxE06G",
        "colab": {
          "base_uri": "https://localhost:8080/"
        },
        "outputId": "359f7337-57d1-4f95-a040-455732bb9a2d"
      },
      "execution_count": null,
      "outputs": [
        {
          "output_type": "stream",
          "name": "stderr",
          "text": [
            "/usr/local/lib/python3.9/dist-packages/IPython/core/interactiveshell.py:3473: FutureWarning: arrays to stack must be passed as a \"sequence\" type such as list or tuple. Support for non-sequence iterables such as generators is deprecated as of NumPy 1.16 and will raise an error in the future.\n",
            "  if (await self.run_code(code, result,  async_=asy)):\n"
          ]
        }
      ]
    },
    {
      "cell_type": "code",
      "source": [
        "classes = df[['label','enc_labels']].value_counts()\n",
        "classes"
      ],
      "metadata": {
        "colab": {
          "base_uri": "https://localhost:8080/"
        },
        "id": "tSWNMoPkqQtM",
        "outputId": "2dbeb72b-a4a2-453f-8dd3-89666f274a8d"
      },
      "execution_count": null,
      "outputs": [
        {
          "output_type": "execute_result",
          "data": {
            "text/plain": [
              "label      enc_labels\n",
              "pneumonia  2             1492\n",
              "covid      1             1109\n",
              "dtype: int64"
            ]
          },
          "metadata": {},
          "execution_count": 75
        }
      ]
    },
    {
      "cell_type": "code",
      "source": [
        "# make dictionary for class objects so we can call objects by their keys.\n",
        "classes= {0:'background', 1:'covid',2:'pneumonia'}"
      ],
      "metadata": {
        "id": "UlrQDZC_FvlO"
      },
      "execution_count": null,
      "outputs": []
    },
    {
      "cell_type": "code",
      "source": [
        "df.head()"
      ],
      "metadata": {
        "id": "LJXHcSSGGFz8",
        "colab": {
          "base_uri": "https://localhost:8080/",
          "height": 206
        },
        "outputId": "3ecc098b-0b3f-4f8a-e448-2b2f0021fd4f"
      },
      "execution_count": null,
      "outputs": [
        {
          "output_type": "execute_result",
          "data": {
            "text/plain": [
              "        filename  width  height                  bbox  label  xmin  ymin  \\\n",
              "0  COVID-100.png    640     640  [204, 192, 478, 530]  covid   204   192   \n",
              "1  COVID-101.png    640     640  [196, 140, 484, 444]  covid   196   140   \n",
              "2  COVID-103.png    640     640  [166, 140, 462, 482]  covid   166   140   \n",
              "3  COVID-104.png    640     640  [192, 158, 490, 508]  covid   192   158   \n",
              "4  COVID-105.png    640     640  [152, 122, 432, 516]  covid   152   122   \n",
              "\n",
              "   xmax  ymax  box_w  box_h  enc_labels  \n",
              "0   478   530    274    338           1  \n",
              "1   484   444    288    304           1  \n",
              "2   462   482    296    342           1  \n",
              "3   490   508    298    350           1  \n",
              "4   432   516    280    394           1  "
            ],
            "text/html": [
              "\n",
              "  <div id=\"df-256aeb75-57d6-4504-a30d-95aff22c63d6\">\n",
              "    <div class=\"colab-df-container\">\n",
              "      <div>\n",
              "<style scoped>\n",
              "    .dataframe tbody tr th:only-of-type {\n",
              "        vertical-align: middle;\n",
              "    }\n",
              "\n",
              "    .dataframe tbody tr th {\n",
              "        vertical-align: top;\n",
              "    }\n",
              "\n",
              "    .dataframe thead th {\n",
              "        text-align: right;\n",
              "    }\n",
              "</style>\n",
              "<table border=\"1\" class=\"dataframe\">\n",
              "  <thead>\n",
              "    <tr style=\"text-align: right;\">\n",
              "      <th></th>\n",
              "      <th>filename</th>\n",
              "      <th>width</th>\n",
              "      <th>height</th>\n",
              "      <th>bbox</th>\n",
              "      <th>label</th>\n",
              "      <th>xmin</th>\n",
              "      <th>ymin</th>\n",
              "      <th>xmax</th>\n",
              "      <th>ymax</th>\n",
              "      <th>box_w</th>\n",
              "      <th>box_h</th>\n",
              "      <th>enc_labels</th>\n",
              "    </tr>\n",
              "  </thead>\n",
              "  <tbody>\n",
              "    <tr>\n",
              "      <th>0</th>\n",
              "      <td>COVID-100.png</td>\n",
              "      <td>640</td>\n",
              "      <td>640</td>\n",
              "      <td>[204, 192, 478, 530]</td>\n",
              "      <td>covid</td>\n",
              "      <td>204</td>\n",
              "      <td>192</td>\n",
              "      <td>478</td>\n",
              "      <td>530</td>\n",
              "      <td>274</td>\n",
              "      <td>338</td>\n",
              "      <td>1</td>\n",
              "    </tr>\n",
              "    <tr>\n",
              "      <th>1</th>\n",
              "      <td>COVID-101.png</td>\n",
              "      <td>640</td>\n",
              "      <td>640</td>\n",
              "      <td>[196, 140, 484, 444]</td>\n",
              "      <td>covid</td>\n",
              "      <td>196</td>\n",
              "      <td>140</td>\n",
              "      <td>484</td>\n",
              "      <td>444</td>\n",
              "      <td>288</td>\n",
              "      <td>304</td>\n",
              "      <td>1</td>\n",
              "    </tr>\n",
              "    <tr>\n",
              "      <th>2</th>\n",
              "      <td>COVID-103.png</td>\n",
              "      <td>640</td>\n",
              "      <td>640</td>\n",
              "      <td>[166, 140, 462, 482]</td>\n",
              "      <td>covid</td>\n",
              "      <td>166</td>\n",
              "      <td>140</td>\n",
              "      <td>462</td>\n",
              "      <td>482</td>\n",
              "      <td>296</td>\n",
              "      <td>342</td>\n",
              "      <td>1</td>\n",
              "    </tr>\n",
              "    <tr>\n",
              "      <th>3</th>\n",
              "      <td>COVID-104.png</td>\n",
              "      <td>640</td>\n",
              "      <td>640</td>\n",
              "      <td>[192, 158, 490, 508]</td>\n",
              "      <td>covid</td>\n",
              "      <td>192</td>\n",
              "      <td>158</td>\n",
              "      <td>490</td>\n",
              "      <td>508</td>\n",
              "      <td>298</td>\n",
              "      <td>350</td>\n",
              "      <td>1</td>\n",
              "    </tr>\n",
              "    <tr>\n",
              "      <th>4</th>\n",
              "      <td>COVID-105.png</td>\n",
              "      <td>640</td>\n",
              "      <td>640</td>\n",
              "      <td>[152, 122, 432, 516]</td>\n",
              "      <td>covid</td>\n",
              "      <td>152</td>\n",
              "      <td>122</td>\n",
              "      <td>432</td>\n",
              "      <td>516</td>\n",
              "      <td>280</td>\n",
              "      <td>394</td>\n",
              "      <td>1</td>\n",
              "    </tr>\n",
              "  </tbody>\n",
              "</table>\n",
              "</div>\n",
              "      <button class=\"colab-df-convert\" onclick=\"convertToInteractive('df-256aeb75-57d6-4504-a30d-95aff22c63d6')\"\n",
              "              title=\"Convert this dataframe to an interactive table.\"\n",
              "              style=\"display:none;\">\n",
              "        \n",
              "  <svg xmlns=\"http://www.w3.org/2000/svg\" height=\"24px\"viewBox=\"0 0 24 24\"\n",
              "       width=\"24px\">\n",
              "    <path d=\"M0 0h24v24H0V0z\" fill=\"none\"/>\n",
              "    <path d=\"M18.56 5.44l.94 2.06.94-2.06 2.06-.94-2.06-.94-.94-2.06-.94 2.06-2.06.94zm-11 1L8.5 8.5l.94-2.06 2.06-.94-2.06-.94L8.5 2.5l-.94 2.06-2.06.94zm10 10l.94 2.06.94-2.06 2.06-.94-2.06-.94-.94-2.06-.94 2.06-2.06.94z\"/><path d=\"M17.41 7.96l-1.37-1.37c-.4-.4-.92-.59-1.43-.59-.52 0-1.04.2-1.43.59L10.3 9.45l-7.72 7.72c-.78.78-.78 2.05 0 2.83L4 21.41c.39.39.9.59 1.41.59.51 0 1.02-.2 1.41-.59l7.78-7.78 2.81-2.81c.8-.78.8-2.07 0-2.86zM5.41 20L4 18.59l7.72-7.72 1.47 1.35L5.41 20z\"/>\n",
              "  </svg>\n",
              "      </button>\n",
              "      \n",
              "  <style>\n",
              "    .colab-df-container {\n",
              "      display:flex;\n",
              "      flex-wrap:wrap;\n",
              "      gap: 12px;\n",
              "    }\n",
              "\n",
              "    .colab-df-convert {\n",
              "      background-color: #E8F0FE;\n",
              "      border: none;\n",
              "      border-radius: 50%;\n",
              "      cursor: pointer;\n",
              "      display: none;\n",
              "      fill: #1967D2;\n",
              "      height: 32px;\n",
              "      padding: 0 0 0 0;\n",
              "      width: 32px;\n",
              "    }\n",
              "\n",
              "    .colab-df-convert:hover {\n",
              "      background-color: #E2EBFA;\n",
              "      box-shadow: 0px 1px 2px rgba(60, 64, 67, 0.3), 0px 1px 3px 1px rgba(60, 64, 67, 0.15);\n",
              "      fill: #174EA6;\n",
              "    }\n",
              "\n",
              "    [theme=dark] .colab-df-convert {\n",
              "      background-color: #3B4455;\n",
              "      fill: #D2E3FC;\n",
              "    }\n",
              "\n",
              "    [theme=dark] .colab-df-convert:hover {\n",
              "      background-color: #434B5C;\n",
              "      box-shadow: 0px 1px 3px 1px rgba(0, 0, 0, 0.15);\n",
              "      filter: drop-shadow(0px 1px 2px rgba(0, 0, 0, 0.3));\n",
              "      fill: #FFFFFF;\n",
              "    }\n",
              "  </style>\n",
              "\n",
              "      <script>\n",
              "        const buttonEl =\n",
              "          document.querySelector('#df-256aeb75-57d6-4504-a30d-95aff22c63d6 button.colab-df-convert');\n",
              "        buttonEl.style.display =\n",
              "          google.colab.kernel.accessAllowed ? 'block' : 'none';\n",
              "\n",
              "        async function convertToInteractive(key) {\n",
              "          const element = document.querySelector('#df-256aeb75-57d6-4504-a30d-95aff22c63d6');\n",
              "          const dataTable =\n",
              "            await google.colab.kernel.invokeFunction('convertToInteractive',\n",
              "                                                     [key], {});\n",
              "          if (!dataTable) return;\n",
              "\n",
              "          const docLinkHtml = 'Like what you see? Visit the ' +\n",
              "            '<a target=\"_blank\" href=https://colab.research.google.com/notebooks/data_table.ipynb>data table notebook</a>'\n",
              "            + ' to learn more about interactive tables.';\n",
              "          element.innerHTML = '';\n",
              "          dataTable['output_type'] = 'display_data';\n",
              "          await google.colab.output.renderOutput(dataTable, element);\n",
              "          const docLink = document.createElement('div');\n",
              "          docLink.innerHTML = docLinkHtml;\n",
              "          element.appendChild(docLink);\n",
              "        }\n",
              "      </script>\n",
              "    </div>\n",
              "  </div>\n",
              "  "
            ]
          },
          "metadata": {},
          "execution_count": 77
        }
      ]
    },
    {
      "cell_type": "markdown",
      "source": [
        "## Stratified sampling"
      ],
      "metadata": {
        "id": "SGd97jxy0aeu"
      }
    },
    {
      "cell_type": "code",
      "source": [
        "df['filename'].nunique()"
      ],
      "metadata": {
        "id": "Wlqr-YWiJOvr",
        "colab": {
          "base_uri": "https://localhost:8080/"
        },
        "outputId": "aa51fa82-f9db-4030-a7f0-8de1f8c790ca"
      },
      "execution_count": null,
      "outputs": [
        {
          "output_type": "execute_result",
          "data": {
            "text/plain": [
              "925"
            ]
          },
          "metadata": {},
          "execution_count": 78
        }
      ]
    },
    {
      "cell_type": "code",
      "source": [
        "# Split the data in roughly equal proportions of each class into train and test in given ratio (80-20 usually).\n",
        "\n",
        "def stratified_sampling(dataframe, proportion, column_name, filename):\n",
        "    # Group the dataframe by the column and filename to split based on\n",
        "    grouped_dataframe = dataframe.groupby([column_name, filename])\n",
        "    \n",
        "    # Initialize empty dataframes for the training and validation sets\n",
        "    train_dataframe = pd.DataFrame()\n",
        "    val_dataframe = pd.DataFrame()\n",
        "    \n",
        "    # Loop through each group and add the entire group to either the training or validation dataframe,\n",
        "    # depending on a randomly generated value for that group\n",
        "    for _, group in grouped_dataframe:\n",
        "        if random.random() >= proportion: # Stochastic element introduced here\n",
        "            val_dataframe = pd.concat([val_dataframe, group])\n",
        "        else:\n",
        "            train_dataframe = pd.concat([train_dataframe, group])\n",
        "    \n",
        "    # Reset the index of the dataframes\n",
        "    train_dataframe = train_dataframe.reset_index(drop=True)\n",
        "    val_dataframe = val_dataframe.reset_index(drop=True)\n",
        "    \n",
        "    return train_dataframe, val_dataframe\n"
      ],
      "metadata": {
        "id": "ESaKIZlv739X"
      },
      "execution_count": null,
      "outputs": []
    },
    {
      "cell_type": "code",
      "source": [
        "# Count the number of images for covid and pneumonia in split dataframe\n",
        "\n",
        "def count_unique_filenames(df):\n",
        "    # Filter the DataFrame to only include rows with \"covid\" or \"pneumonia\" labels\n",
        "    covid_pneumonia_df = df[df['label'].isin(['covid', 'pneumonia'])]\n",
        "\n",
        "    # Count the number of unique filenames with \"covid\" and \"pneumonia\" labels separately\n",
        "    covid_filenames = covid_pneumonia_df[covid_pneumonia_df['label'] == 'covid']['filename'].nunique()\n",
        "    pneumonia_filenames = covid_pneumonia_df[covid_pneumonia_df['label'] == 'pneumonia']['filename'].nunique()\n",
        "\n",
        "    # Print output\n",
        "    print(f\"Unique filenames with Covid label:\", covid_filenames)\n",
        "    print(f\"Unique filenames with Pneumonia label:\", pneumonia_filenames)\n",
        "\n",
        "    return covid_filenames, pneumonia_filenames"
      ],
      "metadata": {
        "id": "bl8_SO9N_kZW"
      },
      "execution_count": null,
      "outputs": []
    },
    {
      "cell_type": "code",
      "source": [
        "# Split the dataframe and images\n",
        "\n",
        "train, val = stratified_sampling(df,0.8,'label','filename')"
      ],
      "metadata": {
        "id": "QpfUIL0u3zch"
      },
      "execution_count": null,
      "outputs": []
    },
    {
      "cell_type": "code",
      "source": [
        "# Check if any filenames coincide\n",
        "\n",
        "for i in train['filename']:\n",
        "  if(i in val['filename']):\n",
        "    print(i)"
      ],
      "metadata": {
        "id": "KrS88cLR8EDS"
      },
      "execution_count": null,
      "outputs": []
    },
    {
      "cell_type": "code",
      "source": [
        "train.info()"
      ],
      "metadata": {
        "id": "P6tFct4LI_iX",
        "colab": {
          "base_uri": "https://localhost:8080/"
        },
        "outputId": "283d8cbb-74bc-4b55-a560-d686d1598299"
      },
      "execution_count": null,
      "outputs": [
        {
          "output_type": "stream",
          "name": "stdout",
          "text": [
            "<class 'pandas.core.frame.DataFrame'>\n",
            "RangeIndex: 2062 entries, 0 to 2061\n",
            "Data columns (total 12 columns):\n",
            " #   Column      Non-Null Count  Dtype \n",
            "---  ------      --------------  ----- \n",
            " 0   filename    2062 non-null   object\n",
            " 1   width       2062 non-null   int64 \n",
            " 2   height      2062 non-null   int64 \n",
            " 3   bbox        2062 non-null   object\n",
            " 4   label       2062 non-null   object\n",
            " 5   xmin        2062 non-null   int64 \n",
            " 6   ymin        2062 non-null   int64 \n",
            " 7   xmax        2062 non-null   int64 \n",
            " 8   ymax        2062 non-null   int64 \n",
            " 9   box_w       2062 non-null   int64 \n",
            " 10  box_h       2062 non-null   int64 \n",
            " 11  enc_labels  2062 non-null   int64 \n",
            "dtypes: int64(9), object(3)\n",
            "memory usage: 193.4+ KB\n"
          ]
        }
      ]
    },
    {
      "cell_type": "code",
      "source": [
        "val.info()"
      ],
      "metadata": {
        "id": "kwehTgB4JCSO",
        "colab": {
          "base_uri": "https://localhost:8080/"
        },
        "outputId": "cb75f268-4107-4db8-9c79-dc9582db6e7a"
      },
      "execution_count": null,
      "outputs": [
        {
          "output_type": "stream",
          "name": "stdout",
          "text": [
            "<class 'pandas.core.frame.DataFrame'>\n",
            "RangeIndex: 539 entries, 0 to 538\n",
            "Data columns (total 12 columns):\n",
            " #   Column      Non-Null Count  Dtype \n",
            "---  ------      --------------  ----- \n",
            " 0   filename    539 non-null    object\n",
            " 1   width       539 non-null    int64 \n",
            " 2   height      539 non-null    int64 \n",
            " 3   bbox        539 non-null    object\n",
            " 4   label       539 non-null    object\n",
            " 5   xmin        539 non-null    int64 \n",
            " 6   ymin        539 non-null    int64 \n",
            " 7   xmax        539 non-null    int64 \n",
            " 8   ymax        539 non-null    int64 \n",
            " 9   box_w       539 non-null    int64 \n",
            " 10  box_h       539 non-null    int64 \n",
            " 11  enc_labels  539 non-null    int64 \n",
            "dtypes: int64(9), object(3)\n",
            "memory usage: 50.7+ KB\n"
          ]
        }
      ]
    },
    {
      "cell_type": "code",
      "source": [
        "cf_total,pf_total = count_unique_filenames(df)"
      ],
      "metadata": {
        "id": "nApaabTp_Ut0",
        "colab": {
          "base_uri": "https://localhost:8080/"
        },
        "outputId": "1e83787e-1245-4018-ecd0-d8c008668a16"
      },
      "execution_count": null,
      "outputs": [
        {
          "output_type": "stream",
          "name": "stdout",
          "text": [
            "Unique filenames with Covid label: 479\n",
            "Unique filenames with Pneumonia label: 446\n"
          ]
        }
      ]
    },
    {
      "cell_type": "code",
      "source": [
        "cf_train, pf_train = count_unique_filenames(train)"
      ],
      "metadata": {
        "id": "lbBjfJ4pAAA3",
        "colab": {
          "base_uri": "https://localhost:8080/"
        },
        "outputId": "3d19a709-84b9-4478-8d87-5c05462a6d65"
      },
      "execution_count": null,
      "outputs": [
        {
          "output_type": "stream",
          "name": "stdout",
          "text": [
            "Unique filenames with Covid label: 383\n",
            "Unique filenames with Pneumonia label: 355\n"
          ]
        }
      ]
    },
    {
      "cell_type": "code",
      "source": [
        "cf_val, pf_val = count_unique_filenames(val)"
      ],
      "metadata": {
        "id": "4Z8G6zsQAXxi",
        "colab": {
          "base_uri": "https://localhost:8080/"
        },
        "outputId": "65c0cdac-d605-4fbe-b388-0c7a8325841f"
      },
      "execution_count": null,
      "outputs": [
        {
          "output_type": "stream",
          "name": "stdout",
          "text": [
            "Unique filenames with Covid label: 96\n",
            "Unique filenames with Pneumonia label: 91\n"
          ]
        }
      ]
    },
    {
      "cell_type": "code",
      "source": [
        "print(f\"Covid (fraction of total data): {round((cf_total/(cf_total + pf_total))*100,3)}%\")\n",
        "print(f\"Pneumonia (fraction of total data): {round((pf_total/(cf_total + pf_total))*100,3)}%\")"
      ],
      "metadata": {
        "id": "phIt9RifAYgx",
        "colab": {
          "base_uri": "https://localhost:8080/"
        },
        "outputId": "febdfebf-0551-4f4a-dd87-056e04d13483"
      },
      "execution_count": null,
      "outputs": [
        {
          "output_type": "stream",
          "name": "stdout",
          "text": [
            "Covid (fraction of total data): 51.784%\n",
            "Pneumonia (fraction of total data): 48.216%\n"
          ]
        }
      ]
    },
    {
      "cell_type": "code",
      "source": [
        "print(f\"Covid Train (fraction of covid): {round((cf_train/cf_total)*100,3)}%, Pneumonia Train (fraction of pneumonia): {round((pf_train/pf_total)*100,3)}%\")\n",
        "print(f\"Covid Train (fraction of train): {round((cf_train/(cf_train + pf_train))*100,3)}%, Pneumonia Train (fraction of train): {round((pf_train/(cf_train+pf_train))*100,3)}%\")"
      ],
      "metadata": {
        "id": "dISdajcVByqt",
        "colab": {
          "base_uri": "https://localhost:8080/"
        },
        "outputId": "1f1be7c2-817b-44e9-aed9-be904723cd7b"
      },
      "execution_count": null,
      "outputs": [
        {
          "output_type": "stream",
          "name": "stdout",
          "text": [
            "Covid Train (fraction of covid): 79.958%, Pneumonia Train (fraction of pneumonia): 79.596%\n",
            "Covid Train (fraction of train): 51.897%, Pneumonia Train (fraction of train): 48.103%\n"
          ]
        }
      ]
    },
    {
      "cell_type": "code",
      "source": [
        "print(f\"Covid Test(fraction of covid): {round((cf_val/cf_total)*100,3)}%, Pneumonia Test (fraction of pneumonia): {round((pf_val/pf_total)*100,3)}%\")\n",
        "print(f\"Covid Test (fraction of validation): {round((cf_val/(cf_val + pf_val))*100,3)}%, Pneumonia Test (fraction of validation): {round((pf_val/(cf_val+pf_val))*100,3)}%\")"
      ],
      "metadata": {
        "id": "GCB0wmwpFU_i",
        "colab": {
          "base_uri": "https://localhost:8080/"
        },
        "outputId": "7c216004-f2a0-4b5c-ee68-349a36214d99"
      },
      "execution_count": null,
      "outputs": [
        {
          "output_type": "stream",
          "name": "stdout",
          "text": [
            "Covid Test(fraction of covid): 20.042%, Pneumonia Test (fraction of pneumonia): 20.404%\n",
            "Covid Test (fraction of validation): 51.337%, Pneumonia Test (fraction of validation): 48.663%\n"
          ]
        }
      ]
    },
    {
      "cell_type": "code",
      "source": [
        "A = df[df['filename']== 'COVID-113.png']['label'].values\n",
        "A"
      ],
      "metadata": {
        "colab": {
          "base_uri": "https://localhost:8080/"
        },
        "id": "eL1xCxq6sHLt",
        "outputId": "4c20a734-4778-4085-f7cd-bc2f976c546e"
      },
      "execution_count": null,
      "outputs": [
        {
          "output_type": "execute_result",
          "data": {
            "text/plain": [
              "array(['covid', 'covid'], dtype=object)"
            ]
          },
          "metadata": {},
          "execution_count": 91
        }
      ]
    },
    {
      "cell_type": "markdown",
      "source": [
        "## Transforms, Custom DatasetClass, Dataloader"
      ],
      "metadata": {
        "id": "Gr1ofE1baAVV"
      }
    },
    {
      "cell_type": "code",
      "source": [
        "def get_transform():\n",
        "    list_transforms = []\n",
        "    # converts the input image, which should be a PIL image, into a PyTorch Tensor\n",
        "    list_transforms.append(transforms.ToTensor())\n",
        "    \n",
        "    #keeping space for augmentations in future\n",
        "    \n",
        "    return transforms.Compose(list_transforms)"
      ],
      "metadata": {
        "id": "hqbaZaVzlW1f"
      },
      "execution_count": null,
      "outputs": []
    },
    {
      "cell_type": "markdown",
      "source": [
        "**Getitem returns for EACH image:**\n",
        "\n",
        "1.   **image** - a PIL image of size (H,W) \n",
        "\n",
        "    for ResNet50 FPN image should be scaled\n",
        "\n",
        "2.   **target** - a dictionary containing the following fields\n",
        "\n",
        "    1. ***Boxes*** as FloatTensor of dimensions - (N,4) \n",
        "      \n",
        "      here, N = number of bounding boxs within an image and the 4 columns include [x_min, y_min, x_max, y_max]\n",
        "    2. ***Labels*** as Int64Tensor of dimension - N\n",
        "\n",
        "    3. ***Area*** as Int64Tensor of dimension - N\n",
        "\n",
        "    4. ***Iscrowd*** as UInt8Tensor of dimension - N\n",
        "\n",
        "3. (removed) **image_id** - Name of the image\n"
      ],
      "metadata": {
        "id": "CK-nqUx7IfSt"
      }
    },
    {
      "cell_type": "code",
      "source": [
        "class XrayData(Dataset):\n",
        "    def __init__(self,input_df,input_dir,transforms=None):\n",
        "        super().__init__()\n",
        "        self.df=input_df    \n",
        "        self.list_images = list(self.df['filename'].unique())\n",
        "        self.image_dir=input_dir\n",
        "        self.transforms = transforms\n",
        "        self.label_mapping = {0: \"background\", 1: \"covid\", 2: \"pneumonia\"}\n",
        "\n",
        "    def __len__(self):\n",
        "        return len(self.df['filename'].unique())\n",
        "\n",
        "    def get_label_mapping(self):\n",
        "        return self.label_mapping\n",
        "\n",
        "    def __getitem__(self,idx):\n",
        "                \n",
        "        cols_to_be_selected =['xmin','ymin','xmax','ymax']\n",
        "        img_id = self.list_images[idx]\n",
        "        bboxes_array = np.array(self.df.loc[self.df['filename']==img_id,cols_to_be_selected])\n",
        "        boxes = torch.tensor(bboxes_array, dtype=torch.float32)\n",
        "        \n",
        "        num_boxes = self.df.loc[self.df['filename']==img_id].shape[0]\n",
        "        label = self.df[self.df['filename']== img_id]['enc_labels'].values\n",
        "        labels = torch.as_tensor(label, dtype=torch.int64)\n",
        "\n",
        "        area = torch.tensor(np.array((self.df['xmax']-self.df['xmin'])*(self.df['ymax']-self.df['ymin'])), dtype=torch.int64)\n",
        "\n",
        "        iscrowd = torch.zeros(num_boxes, dtype=torch.uint8)\n",
        "        \n",
        "        # Combining everything\n",
        "        target = {}\n",
        "        target['boxes'] = boxes\n",
        "        target['labels'] = labels\n",
        "        target['image_id'] = torch.tensor([idx])\n",
        "        target['area'] = area\n",
        "        target['iscrowd'] = iscrowd\n",
        "                \n",
        "        # img = cv2.imread(os.path.join(self.image_dir, img_id), 0)  # 0 for grayscale\n",
        "        img = cv2.imread(self.image_dir+'/'+img_id, cv2.IMREAD_COLOR)\n",
        "        img_col = cv2.cvtColor(img, cv2.COLOR_BGR2RGB).astype(np.float32)\n",
        "        img_scaled = img_col / 255.0\n",
        "        img_final = img_scaled\n",
        "\n",
        "        if self.transforms is not None:\n",
        "            img_final = self.transforms(img_final)\n",
        "                \n",
        "        return img_final, target"
      ],
      "metadata": {
        "id": "krErrJOClTcH"
      },
      "execution_count": null,
      "outputs": []
    },
    {
      "cell_type": "code",
      "source": [
        "train_dataset = XrayData(train,train_dir,get_transform())\n",
        "val_dataset = XrayData(val,train_dir,get_transform())"
      ],
      "metadata": {
        "id": "bQvuGrS4nozY"
      },
      "execution_count": null,
      "outputs": []
    },
    {
      "cell_type": "code",
      "source": [
        "print(f'Length of train data {len(train_dataset)}')\n",
        "print(f'Length of validation data {len(val_dataset)}')"
      ],
      "metadata": {
        "id": "Yte4SNy4ryKD",
        "colab": {
          "base_uri": "https://localhost:8080/"
        },
        "outputId": "a6ec7746-11a3-42fd-d45f-17410a8f26f5"
      },
      "execution_count": null,
      "outputs": [
        {
          "output_type": "stream",
          "name": "stdout",
          "text": [
            "Length of train data 738\n",
            "Length of validation data 187\n"
          ]
        }
      ]
    },
    {
      "cell_type": "code",
      "source": [
        "# batching\n",
        "def collate_fn(batch):\n",
        "    return tuple(zip(*batch))"
      ],
      "metadata": {
        "id": "R9RYOs2pr-SA"
      },
      "execution_count": null,
      "outputs": []
    },
    {
      "cell_type": "code",
      "source": [
        "train_data_loader = DataLoader(\n",
        "    train_dataset,\n",
        "    batch_size=batchsize,\n",
        "    shuffle=False,\n",
        "    num_workers=4,\n",
        "    collate_fn=collate_fn\n",
        ")\n",
        "\n",
        "valid_data_loader = DataLoader(\n",
        "    val_dataset,\n",
        "    batch_size=batchsize,\n",
        "    shuffle=False,\n",
        "    num_workers=4,\n",
        "    collate_fn=collate_fn\n",
        ")"
      ],
      "metadata": {
        "id": "WN82jVtYLwPJ",
        "colab": {
          "base_uri": "https://localhost:8080/"
        },
        "outputId": "72606400-8e10-4410-992c-d3842542762b"
      },
      "execution_count": null,
      "outputs": [
        {
          "output_type": "stream",
          "name": "stderr",
          "text": [
            "/usr/local/lib/python3.9/dist-packages/torch/utils/data/dataloader.py:561: UserWarning: This DataLoader will create 4 worker processes in total. Our suggested max number of worker in current system is 2, which is smaller than what this DataLoader is going to create. Please be aware that excessive worker creation might get DataLoader running slow or even freeze, lower the worker number to avoid potential slowness/freeze if necessary.\n",
            "  warnings.warn(_create_warning_msg(\n"
          ]
        }
      ]
    },
    {
      "cell_type": "code",
      "source": [
        "def image_convert(image):\n",
        "    image = image.clone().cpu().numpy()\n",
        "    image = image.transpose((1,2,0))\n",
        "    image = (image * 255).astype(np.uint8)\n",
        "    return image\n",
        "\n",
        "def plot_img(data,idx):\n",
        "    out = data.__getitem__(idx) # Has (image, target, image_id) for idx\n",
        "    image = image_convert(out[0])\n",
        "    image = np.ascontiguousarray(image)\n",
        "    bb = out[1]['boxes'].numpy() # target boxes coordinates to numpy\n",
        "    sample = out[1]['labels'].numpy()\n",
        "    print(data.label_mapping)\n",
        "    for i in bb:\n",
        "        cv2.rectangle(image, (int(i[0]),int(i[1])), (int(i[2]),int(i[3])), (0,255,0), thickness=2)\n",
        "    for idx, i in enumerate(sample):\n",
        "        label = data.label_mapping[i]\n",
        "        x, y = int(bb[idx][0]), int(bb[idx][1])\n",
        "        cv2.putText(image, label, (x, y-5), cv2.FONT_HERSHEY_COMPLEX, 0.7, (220,0,0), 1, cv2.LINE_AA)  \n",
        "\n",
        "    plt.figure(figsize=(10,10))\n",
        "    plt.imshow(image)"
      ],
      "metadata": {
        "id": "4h7zzV7AsIJI"
      },
      "execution_count": null,
      "outputs": []
    },
    {
      "cell_type": "code",
      "source": [
        "# train_dataset[124]"
      ],
      "metadata": {
        "id": "vULh68F5xS9p",
        "colab": {
          "base_uri": "https://localhost:8080/"
        },
        "outputId": "4d53a236-ed11-45db-8ab5-34dbec066929"
      },
      "execution_count": null,
      "outputs": [
        {
          "output_type": "execute_result",
          "data": {
            "text/plain": [
              "(tensor([[[0.3529, 0.3490, 0.3490,  ..., 0.1804, 0.1725, 0.1725],\n",
              "          [0.3529, 0.3529, 0.3490,  ..., 0.1843, 0.1765, 0.1765],\n",
              "          [0.3529, 0.3529, 0.3490,  ..., 0.1882, 0.1843, 0.1843],\n",
              "          ...,\n",
              "          [0.6000, 0.6000, 0.6000,  ..., 0.5020, 0.5020, 0.5020],\n",
              "          [0.6039, 0.6039, 0.6039,  ..., 0.4980, 0.4980, 0.4941],\n",
              "          [0.6078, 0.6078, 0.6039,  ..., 0.4980, 0.4941, 0.4941]],\n",
              " \n",
              "         [[0.3529, 0.3490, 0.3490,  ..., 0.1804, 0.1725, 0.1725],\n",
              "          [0.3529, 0.3529, 0.3490,  ..., 0.1843, 0.1765, 0.1765],\n",
              "          [0.3529, 0.3529, 0.3490,  ..., 0.1882, 0.1843, 0.1843],\n",
              "          ...,\n",
              "          [0.6000, 0.6000, 0.6000,  ..., 0.5020, 0.5020, 0.5020],\n",
              "          [0.6039, 0.6039, 0.6039,  ..., 0.4980, 0.4980, 0.4941],\n",
              "          [0.6078, 0.6078, 0.6039,  ..., 0.4980, 0.4941, 0.4941]],\n",
              " \n",
              "         [[0.3529, 0.3490, 0.3490,  ..., 0.1804, 0.1725, 0.1725],\n",
              "          [0.3529, 0.3529, 0.3490,  ..., 0.1843, 0.1765, 0.1765],\n",
              "          [0.3529, 0.3529, 0.3490,  ..., 0.1882, 0.1843, 0.1843],\n",
              "          ...,\n",
              "          [0.6000, 0.6000, 0.6000,  ..., 0.5020, 0.5020, 0.5020],\n",
              "          [0.6039, 0.6039, 0.6039,  ..., 0.4980, 0.4980, 0.4941],\n",
              "          [0.6078, 0.6078, 0.6039,  ..., 0.4980, 0.4941, 0.4941]]]),\n",
              " {'boxes': tensor([[178., 248., 470., 568.],\n",
              "          [ 74., 404., 174., 520.]]),\n",
              "  'labels': tensor([1, 1]),\n",
              "  'image_id': tensor([124]),\n",
              "  'area': tensor([63784, 97848, 92612,  ..., 10360, 11592,  8640]),\n",
              "  'iscrowd': tensor([0, 0], dtype=torch.uint8)})"
            ]
          },
          "metadata": {},
          "execution_count": 266
        }
      ]
    },
    {
      "cell_type": "code",
      "source": [
        "plot_img(val_dataset,124)"
      ],
      "metadata": {
        "id": "S9vZsL1YsKa1",
        "colab": {
          "base_uri": "https://localhost:8080/",
          "height": 852
        },
        "outputId": "100cf223-d0a3-407a-b816-d88992e4dc57"
      },
      "execution_count": null,
      "outputs": [
        {
          "output_type": "stream",
          "name": "stdout",
          "text": [
            "{0: 'background', 1: 'covid', 2: 'pneumonia'}\n"
          ]
        },
        {
          "output_type": "display_data",
          "data": {
            "text/plain": [
              "<Figure size 1000x1000 with 1 Axes>"
            ],
            "image/png": "[encoded data removed]"
          },
          "metadata": {}
        }
      ]
    },
    {
      "cell_type": "markdown",
      "source": [
        "## Training a model, Saving model"
      ],
      "metadata": {
        "id": "wq9dSYwlCcOZ"
      }
    },
    {
      "cell_type": "code",
      "source": [
        "torch.cuda.empty_cache()"
      ],
      "metadata": {
        "id": "H72lGKwz8AZx"
      },
      "execution_count": null,
      "outputs": []
    },
    {
      "cell_type": "code",
      "source": [
        "device = torch.device('cuda') if torch.cuda.is_available() else torch.device('cpu')\n",
        "print(device)"
      ],
      "metadata": {
        "id": "C7hG5gibnom3"
      },
      "execution_count": null,
      "outputs": []
    },
    {
      "cell_type": "code",
      "source": [
        "# define the number of classes\n",
        "num_classes = 3  # COVID, pneumonia, background\n",
        "\n",
        "# load a pre-trained model\n",
        "model = fasterrcnn(pretrained=True)\n",
        "\n",
        "# get the number of input features for the classifier\n",
        "in_features = model.roi_heads.box_predictor.cls_score.in_features\n",
        "\n",
        "# replace the pre-trained head with a new one\n",
        "model.roi_heads.box_predictor = FastRCNNPredictor(in_features, num_classes)"
      ],
      "metadata": {
        "id": "MyL8RJRlTnYM"
      },
      "execution_count": null,
      "outputs": []
    },
    {
      "cell_type": "code",
      "source": [
        "model.to(device)"
      ],
      "metadata": {
        "id": "wEZYO4Ay6Nlt"
      },
      "execution_count": null,
      "outputs": []
    },
    {
      "cell_type": "code",
      "source": [
        "params = [p for p in model.parameters() if p.requires_grad]\n",
        "optimizer = torch.optim.SGD(params, lr=0.005, weight_decay=0.0005)\n",
        "lr_scheduler = torch.optim.lr_scheduler.StepLR(optimizer, step_size=5, gamma=0.1)"
      ],
      "metadata": {
        "id": "U5uGrlGb78y4"
      },
      "execution_count": null,
      "outputs": []
    },
    {
      "cell_type": "code",
      "source": [
        "print(tisum(\n",
        "    model, \n",
        "    input_size = (batchsize,channels,dimension,dimension),\n",
        "    depth =6\n",
        "    ))"
      ],
      "metadata": {
        "id": "Y63gINKmL45n"
      },
      "execution_count": null,
      "outputs": []
    },
    {
      "cell_type": "code",
      "source": [
        "%%time\n",
        "# let's train it for 2 epochs\n",
        "num_epochs = 10\n",
        "\n",
        "for epoch in trange(num_epochs):\n",
        "    # train for one epoch, printing every 10 iterations\n",
        "    train_one_epoch(model, optimizer, train_data_loader, device, epoch, print_freq=10)\n",
        "    \n",
        "    # update the learning rate\n",
        "    lr_scheduler.step()\n",
        "\n",
        "    # evaluate on the test dataset\n",
        "    evaluate(model, valid_data_loader, device=device)\n",
        "\n",
        "    # Write code to save model here\n",
        "    # torch.save(model.state_dict(), 'faster_rcnn_state.pt')"
      ],
      "metadata": {
        "id": "yUvftYDc02vO"
      },
      "execution_count": null,
      "outputs": []
    },
    {
      "cell_type": "code",
      "source": [
        "torch.save(model.state_dict(), 'faster_rcnn_state.pt')"
      ],
      "metadata": {
        "id": "4ry56WNx02sQ"
      },
      "execution_count": null,
      "outputs": []
    },
    {
      "cell_type": "markdown",
      "source": [
        "## Load a model, Prediction"
      ],
      "metadata": {
        "id": "W_o_cJYI2m04"
      }
    },
    {
      "cell_type": "code",
      "source": [
        "# load  a model; pre-trained on COCO\n",
        "model = torchvision.models.detection.fasterrcnn_resnet50_fpn(pretrained=False, pretrained_backbone=False)\n",
        "\n",
        "WEIGHTS_FILE = \"/content/faster_rcnn_state.pt\"\n",
        "\n",
        "num_classes = 3\n",
        "\n",
        "# get number of input features for the classifier\n",
        "in_features = model.roi_heads.box_predictor.cls_score.in_features\n",
        "\n",
        "# replace the pre-trained head with a new one\n",
        "model.roi_heads.box_predictor = FastRCNNPredictor(in_features, num_classes)\n",
        "\n",
        "# Load the traines weights\n",
        "model.load_state_dict(torch.load(WEIGHTS_FILE))\n",
        "\n",
        "model = model.to(device)"
      ],
      "metadata": {
        "id": "7wve5yTl02pr"
      },
      "execution_count": null,
      "outputs": []
    },
    {
      "cell_type": "code",
      "source": [
        "def obj_detector(img):\n",
        "    img = cv2.imread(img, cv2.IMREAD_COLOR)\n",
        "    img = cv2.cvtColor(img, cv2.COLOR_BGR2RGB).astype(np.float32)\n",
        "\n",
        "\n",
        "    img /= 255.0\n",
        "    img = torch.from_numpy(img)\n",
        "    img = img.unsqueeze(0)\n",
        "    img = img.permute(0,3,1,2)\n",
        "    \n",
        "    model.eval()\n",
        "\n",
        "    detection_threshold = 0.70\n",
        "    \n",
        "    img = list(im.to(device) for im in img)\n",
        "    output = model(img)\n",
        "\n",
        "    for i , im in enumerate(img):\n",
        "        boxes = output[i]['boxes'].data.cpu().numpy()\n",
        "        scores = output[i]['scores'].data.cpu().numpy()\n",
        "        labels = output[i]['labels'].data.cpu().numpy()\n",
        "\n",
        "        labels = labels[scores >= detection_threshold]\n",
        "        boxes = boxes[scores >= detection_threshold].astype(np.int32)\n",
        "        scores = scores[scores >= detection_threshold]\n",
        "\n",
        "        boxes[:, 2] = boxes[:, 2] - boxes[:, 0]\n",
        "        boxes[:, 3] = boxes[:, 3] - boxes[:, 1]\n",
        "    \n",
        "    sample = img[0].permute(1,2,0).cpu().numpy()\n",
        "    sample = np.array(sample)\n",
        "    boxes = output[0]['boxes'].data.cpu().numpy()\n",
        "    name = output[0]['labels'].data.cpu().numpy()\n",
        "    scores = output[0]['scores'].data.cpu().numpy()\n",
        "    boxes = boxes[scores >= detection_threshold].astype(np.int32)\n",
        "    names = name.tolist()\n",
        "    \n",
        "    return names, boxes, sample"
      ],
      "metadata": {
        "id": "bU-H2PxU02mi"
      },
      "execution_count": null,
      "outputs": []
    },
    {
      "cell_type": "code",
      "source": [
        "pred_path = \"/content/drive/MyDrive/Capstone Data (Shared)/Capstone Data/For Object Detection/Combined_640_images of Covid and Pneumonia _for FasterRCNN\"\n",
        "pred_files = [os.path.join(pred_path,f) for f in os.listdir(pred_path)]\n",
        "\n",
        "start = 750\n",
        "plt.figure(figsize=(20,60))\n",
        "for i, images in enumerate(pred_files):\n",
        "    if i < start:\n",
        "      pass\n",
        "    elif i in range(start+1,start+10):\n",
        "        plt.subplot(10,2,i-start)\n",
        "        names,boxes,sample = obj_detector(images)\n",
        "        for i,box in enumerate(boxes):\n",
        "            cv2.rectangle(sample,\n",
        "                          (box[0], box[1]),\n",
        "                          (box[2], box[3]),\n",
        "                          (0, 220, 0), 2)\n",
        "            cv2.putText(sample, data.label_mapping[names[i]], (box[0],box[1]-5),cv2.FONT_HERSHEY_COMPLEX ,0.7,(220,0,0),1,cv2.LINE_AA)  \n",
        "\n",
        "        plt.axis('off')\n",
        "        plt.imshow(sample)"
      ],
      "metadata": {
        "id": "QvPZmHmW02jW"
      },
      "execution_count": null,
      "outputs": []
    }
  ]
}